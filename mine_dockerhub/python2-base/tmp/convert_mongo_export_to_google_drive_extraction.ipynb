{
 "metadata": {
  "name": "",
  "signature": "sha256:c0ba61268c8a8b51c91d3d7be006599a7132071a1f69244b0db7c1977b2637d4"
 },
 "nbformat": 3,
 "nbformat_minor": 0,
 "worksheets": [
  {
   "cells": [
    {
     "cell_type": "code",
     "collapsed": false,
     "input": [
      "import csv\n",
      "\n",
      "import numpy as np\n",
      "import pandas as pd\n",
      "\n",
      "FILE = 'files/csvs/extraction.csv'\n",
      "SEPARATOR = ','\n",
      "\n",
      "custom_fields_dtypes = {\n",
      "    'ean': np.str,\n",
      "    '_id.id': np.str,\n",
      "}\n",
      "\n",
      "df = pd.read_csv(FILE, SEPARATOR, error_bad_lines=False, dtype=custom_fields_dtypes)\n",
      "# df = pd.read_csv(FILE, SEPARATOR, error_bad_lines=False, quoting=csv.QUOTE_NONE)\n",
      "\n",
      "\n",
      "blank_fields_values = {\n",
      " '_id.id': 0,\n",
      " 'ean': '',\n",
      " 'brand': '',\n",
      " 'name': '', \n",
      " 'product_type': '',\n",
      " 'price': 0,\n",
      " 'special_price': 0,\n",
      " 'department': '',\n",
      " 'category': '',\n",
      " 'url': '',\n",
      " 'available': True,\n",
      " 'instalments': 0,\n",
      " 'instalment_value': 0,\n",
      " 'image_url': '',\n",
      " 'variation_label' : '',\n",
      " 'tyre.width': 0,\n",
      " 'tyre.aspect_ratio': 0,\n",
      " 'tyre.rim_diameter': 0,\n",
      " 'tyre.load_index': 0,\n",
      " 'tyre.speed_rating': ''\n",
      "}\n",
      "df = df.fillna(value=blank_fields_values)\n",
      "\n",
      "# df = df.fillna(value='')"
     ],
     "language": "python",
     "metadata": {},
     "outputs": [],
     "prompt_number": 2
    },
    {
     "cell_type": "code",
     "collapsed": false,
     "input": [
      "df.count()\n"
     ],
     "language": "python",
     "metadata": {},
     "outputs": [
      {
       "metadata": {},
       "output_type": "pyout",
       "prompt_number": 3,
       "text": [
        "_id.id               1977\n",
        "ean                  1977\n",
        "brand                1977\n",
        "name                 1977\n",
        "product_type         1977\n",
        "price                1977\n",
        "special_price        1977\n",
        "department           1977\n",
        "category             1977\n",
        "url                  1977\n",
        "available            1977\n",
        "instalments          1977\n",
        "instalment_value     1977\n",
        "image_url            1977\n",
        "tyre.width           1977\n",
        "tyre.aspect_ratio    1977\n",
        "tyre.rim_diameter    1977\n",
        "tyre.load_index      1977\n",
        "tyre.speed_rating    1977\n",
        "dtype: int64"
       ]
      }
     ],
     "prompt_number": 3
    },
    {
     "cell_type": "code",
     "collapsed": false,
     "input": [
      "df.columns\n"
     ],
     "language": "python",
     "metadata": {},
     "outputs": [
      {
       "metadata": {},
       "output_type": "pyout",
       "prompt_number": 4,
       "text": [
        "Index([u'_id.id', u'ean', u'brand', u'name', u'product_type', u'price',\n",
        "       u'special_price', u'department', u'category', u'url', u'available',\n",
        "       u'instalments', u'instalment_value', u'image_url', u'tyre.width',\n",
        "       u'tyre.aspect_ratio', u'tyre.rim_diameter', u'tyre.load_index',\n",
        "       u'tyre.speed_rating'],\n",
        "      dtype='object')"
       ]
      }
     ],
     "prompt_number": 4
    },
    {
     "cell_type": "code",
     "collapsed": false,
     "input": [
      "df.tail(2)"
     ],
     "language": "python",
     "metadata": {},
     "outputs": [
      {
       "html": [
        "<div style=\"max-width:1500px;overflow:auto;\">\n",
        "<table border=\"1\" class=\"dataframe\">\n",
        "  <thead>\n",
        "    <tr style=\"text-align: right;\">\n",
        "      <th></th>\n",
        "      <th>_id.id</th>\n",
        "      <th>ean</th>\n",
        "      <th>brand</th>\n",
        "      <th>name</th>\n",
        "      <th>product_type</th>\n",
        "      <th>price</th>\n",
        "      <th>special_price</th>\n",
        "      <th>department</th>\n",
        "      <th>category</th>\n",
        "      <th>url</th>\n",
        "      <th>available</th>\n",
        "      <th>instalments</th>\n",
        "      <th>instalment_value</th>\n",
        "      <th>image_url</th>\n",
        "      <th>tyre.width</th>\n",
        "      <th>tyre.aspect_ratio</th>\n",
        "      <th>tyre.rim_diameter</th>\n",
        "      <th>tyre.load_index</th>\n",
        "      <th>tyre.speed_rating</th>\n",
        "    </tr>\n",
        "  </thead>\n",
        "  <tbody>\n",
        "    <tr>\n",
        "      <th>1975</th>\n",
        "      <td>4176070</td>\n",
        "      <td></td>\n",
        "      <td>Consul</td>\n",
        "      <td>Ar Condicionado Janela 7.500Btus Frio Mec\u00e2nico...</td>\n",
        "      <td>Janela</td>\n",
        "      <td>0</td>\n",
        "      <td>0.0</td>\n",
        "      <td>Ar e Ventila\u00e7\u00e3o</td>\n",
        "      <td>Ar-Condicionado</td>\n",
        "      <td>http://www.casasbahia.com.br/ArVentilacao/ArCo...</td>\n",
        "      <td>False</td>\n",
        "      <td>0</td>\n",
        "      <td>0</td>\n",
        "      <td>http://www.casasbahia-imagens.com.br/Control/A...</td>\n",
        "      <td>0</td>\n",
        "      <td>0</td>\n",
        "      <td>0</td>\n",
        "      <td>0</td>\n",
        "      <td></td>\n",
        "    </tr>\n",
        "    <tr>\n",
        "      <th>1976</th>\n",
        "      <td>2256354</td>\n",
        "      <td>7891129216242</td>\n",
        "      <td>Brastemp</td>\n",
        "      <td>Fog\u00e3o Brastemp 5 Bocas Ative Flat Top BF175AB ...</td>\n",
        "      <td>Piso 5 Bocas</td>\n",
        "      <td>1799</td>\n",
        "      <td>1619.1</td>\n",
        "      <td>Eletrodom\u00e9sticos</td>\n",
        "      <td>Fog\u00f5es</td>\n",
        "      <td>http://www.casasbahia.com.br/Eletrodomesticos/...</td>\n",
        "      <td>True</td>\n",
        "      <td>10</td>\n",
        "      <td>0</td>\n",
        "      <td>http://www.casasbahia-imagens.com.br/Control/A...</td>\n",
        "      <td>0</td>\n",
        "      <td>0</td>\n",
        "      <td>0</td>\n",
        "      <td>0</td>\n",
        "      <td></td>\n",
        "    </tr>\n",
        "  </tbody>\n",
        "</table>\n",
        "</div>"
       ],
       "metadata": {},
       "output_type": "pyout",
       "prompt_number": 5,
       "text": [
        "       _id.id            ean     brand  \\\n",
        "1975  4176070                   Consul   \n",
        "1976  2256354  7891129216242  Brastemp   \n",
        "\n",
        "                                                   name  product_type  price  \\\n",
        "1975  Ar Condicionado Janela 7.500Btus Frio Mec\u00e2nico...        Janela      0   \n",
        "1976  Fog\u00e3o Brastemp 5 Bocas Ative Flat Top BF175AB ...  Piso 5 Bocas   1799   \n",
        "\n",
        "      special_price        department         category  \\\n",
        "1975            0.0   Ar e Ventila\u00e7\u00e3o  Ar-Condicionado   \n",
        "1976         1619.1  Eletrodom\u00e9sticos           Fog\u00f5es   \n",
        "\n",
        "                                                    url available  \\\n",
        "1975  http://www.casasbahia.com.br/ArVentilacao/ArCo...     False   \n",
        "1976  http://www.casasbahia.com.br/Eletrodomesticos/...      True   \n",
        "\n",
        "      instalments  instalment_value  \\\n",
        "1975            0                 0   \n",
        "1976           10                 0   \n",
        "\n",
        "                                              image_url  tyre.width  \\\n",
        "1975  http://www.casasbahia-imagens.com.br/Control/A...           0   \n",
        "1976  http://www.casasbahia-imagens.com.br/Control/A...           0   \n",
        "\n",
        "      tyre.aspect_ratio  tyre.rim_diameter  tyre.load_index tyre.speed_rating  \n",
        "1975                  0                  0                0                    \n",
        "1976                  0                  0                0                    "
       ]
      }
     ],
     "prompt_number": 5
    },
    {
     "cell_type": "code",
     "collapsed": false,
     "input": [
      "# All distinct values for the field.\n",
      "categories_list = sorted(df['category'].unique())\n",
      "categories = '\\n'.join(categories_list)\n",
      "categories"
     ],
     "language": "python",
     "metadata": {},
     "outputs": [
      {
       "metadata": {},
       "output_type": "pyout",
       "prompt_number": 15,
       "text": [
        "'Ar-Condicionado\\nClimatizadores\\nDepuradores de Ar\\nFog\\xc3\\xb5es\\nForno de Micro-ondas\\nLava-Lou\\xc3\\xa7as\\nLavadoras\\nRefrigeradores\\nSecadoras de Roupas'"
       ]
      }
     ],
     "prompt_number": 15
    },
    {
     "cell_type": "code",
     "collapsed": false,
     "input": [
      "# All distinct values for the field.\n",
      "departments_list = sorted(df['department'].unique())\n",
      "departments = '\\n'.join(departments_list)\n",
      "departments"
     ],
     "language": "python",
     "metadata": {},
     "outputs": [
      {
       "metadata": {},
       "output_type": "pyout",
       "prompt_number": 16,
       "text": [
        "'Ar e Ventila\\xc3\\xa7\\xc3\\xa3o\\nEletrodom\\xc3\\xa9sticos'"
       ]
      }
     ],
     "prompt_number": 16
    },
    {
     "cell_type": "code",
     "collapsed": false,
     "input": [
      "'''\n",
      "tmp_df = df[df['brand'].str.contains('Bridgestone')]\n",
      "print 'TOTAL DE TMP_DF {}'.format(len(tmp_df))\n",
      "tmp_df\n",
      "'''"
     ],
     "language": "python",
     "metadata": {},
     "outputs": [
      {
       "metadata": {},
       "output_type": "pyout",
       "prompt_number": 20,
       "text": [
        "\"\\ntmp_df = df[df['brand'].str.contains('Bridgestone')]\\nprint 'TOTAL DE TMP_DF {}'.format(len(tmp_df))\\ntmp_df\\n\""
       ]
      }
     ],
     "prompt_number": 20
    },
    {
     "cell_type": "code",
     "collapsed": false,
     "input": [
      "df.to_csv(path_or_buf=FILE + '.FINAL_EXTRACTION.csv', sep='\\t', index=False)  # index False will not print the first column (internal pandas id)"
     ],
     "language": "python",
     "metadata": {},
     "outputs": [],
     "prompt_number": 21
    },
    {
     "cell_type": "code",
     "collapsed": false,
     "input": [],
     "language": "python",
     "metadata": {},
     "outputs": [],
     "prompt_number": 21
    }
   ],
   "metadata": {}
  }
 ]
}