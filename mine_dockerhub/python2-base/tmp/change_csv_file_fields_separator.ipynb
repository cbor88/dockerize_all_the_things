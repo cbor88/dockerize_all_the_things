{
 "metadata": {
  "name": "",
  "signature": "sha256:42e25c18821a1f2b6dd11fa00b8b54ad5bed58231d7219a1c1bc6a66be727e78"
 },
 "nbformat": 3,
 "nbformat_minor": 0,
 "worksheets": [
  {
   "cells": [
    {
     "cell_type": "code",
     "collapsed": false,
     "input": [
      "import csv\n",
      "\n",
      "import numpy as np\n",
      "import pandas as pd\n",
      "\n",
      "FILE = 'files/csvs/tireshop.LISA.csv'\n",
      "SEPARATOR = ','\n",
      "\n",
      "df = pd.read_csv(FILE, SEPARATOR, error_bad_lines=False)\n",
      "# df = pd.read_csv(FILE, SEPARATOR, error_bad_lines=False, quoting=csv.QUOTE_NONE)\n",
      "\n",
      "df = df.fillna(value='')"
     ],
     "language": "python",
     "metadata": {},
     "outputs": [],
     "prompt_number": 41
    },
    {
     "cell_type": "code",
     "collapsed": false,
     "input": [
      "df.count()\n"
     ],
     "language": "python",
     "metadata": {},
     "outputs": [
      {
       "metadata": {},
       "output_type": "pyout",
       "prompt_number": 42,
       "text": [
        "_id.id               958\n",
        "ean                  958\n",
        "brand                958\n",
        "name                 958\n",
        "product_type         958\n",
        "price                958\n",
        "special_price        958\n",
        "department           958\n",
        "category             958\n",
        "url                  958\n",
        "available            958\n",
        "instalments          958\n",
        "instalment_value     958\n",
        "image_url            958\n",
        "tyre.width           958\n",
        "tyre.aspect_ratio    958\n",
        "tyre.rim_diameter    958\n",
        "tyre.load_index      958\n",
        "tyre.speed_rating    958\n",
        "dtype: int64"
       ]
      }
     ],
     "prompt_number": 42
    },
    {
     "cell_type": "code",
     "collapsed": false,
     "input": [
      "df.columns\n"
     ],
     "language": "python",
     "metadata": {},
     "outputs": [
      {
       "metadata": {},
       "output_type": "pyout",
       "prompt_number": 43,
       "text": [
        "Index([u'_id.id', u'ean', u'brand', u'name', u'product_type', u'price',\n",
        "       u'special_price', u'department', u'category', u'url', u'available',\n",
        "       u'instalments', u'instalment_value', u'image_url', u'tyre.width',\n",
        "       u'tyre.aspect_ratio', u'tyre.rim_diameter', u'tyre.load_index',\n",
        "       u'tyre.speed_rating'],\n",
        "      dtype='object')"
       ]
      }
     ],
     "prompt_number": 43
    },
    {
     "cell_type": "code",
     "collapsed": false,
     "input": [
      "df.head(3)"
     ],
     "language": "python",
     "metadata": {},
     "outputs": [
      {
       "html": [
        "<div style=\"max-width:1500px;overflow:auto;\">\n",
        "<table border=\"1\" class=\"dataframe\">\n",
        "  <thead>\n",
        "    <tr style=\"text-align: right;\">\n",
        "      <th></th>\n",
        "      <th>_id.id</th>\n",
        "      <th>ean</th>\n",
        "      <th>brand</th>\n",
        "      <th>name</th>\n",
        "      <th>product_type</th>\n",
        "      <th>price</th>\n",
        "      <th>special_price</th>\n",
        "      <th>department</th>\n",
        "      <th>category</th>\n",
        "      <th>url</th>\n",
        "      <th>available</th>\n",
        "      <th>instalments</th>\n",
        "      <th>instalment_value</th>\n",
        "      <th>image_url</th>\n",
        "      <th>tyre.width</th>\n",
        "      <th>tyre.aspect_ratio</th>\n",
        "      <th>tyre.rim_diameter</th>\n",
        "      <th>tyre.load_index</th>\n",
        "      <th>tyre.speed_rating</th>\n",
        "    </tr>\n",
        "  </thead>\n",
        "  <tbody>\n",
        "    <tr>\n",
        "      <th>0</th>\n",
        "      <td>1841</td>\n",
        "      <td></td>\n",
        "      <td>Michelin</td>\n",
        "      <td>Pneu Michelin Primacy 3 225/45 R17 94W</td>\n",
        "      <td></td>\n",
        "      <td>430</td>\n",
        "      <td>404.20</td>\n",
        "      <td>Pneus Passeio |</td>\n",
        "      <td></td>\n",
        "      <td>http://www.tireshop.com.br/ProdutosDetalheComu...</td>\n",
        "      <td>True</td>\n",
        "      <td>4</td>\n",
        "      <td></td>\n",
        "      <td>http://www.tireshop.com.br/imagens/produtos/mi...</td>\n",
        "      <td>225</td>\n",
        "      <td>45</td>\n",
        "      <td>17</td>\n",
        "      <td>94</td>\n",
        "      <td>W</td>\n",
        "    </tr>\n",
        "    <tr>\n",
        "      <th>1</th>\n",
        "      <td>1830</td>\n",
        "      <td></td>\n",
        "      <td>Pirelli</td>\n",
        "      <td>Pneu Pirelli Cinturato P4 175/65 R14 82T</td>\n",
        "      <td></td>\n",
        "      <td>292</td>\n",
        "      <td>274.48</td>\n",
        "      <td>Pneus Passeio |</td>\n",
        "      <td></td>\n",
        "      <td>http://www.tireshop.com.br/1830/Pneu-Pirelli-C...</td>\n",
        "      <td>True</td>\n",
        "      <td>2</td>\n",
        "      <td></td>\n",
        "      <td>http://www.tireshop.com.br/imagens/produtos/pi...</td>\n",
        "      <td>175</td>\n",
        "      <td>65</td>\n",
        "      <td>14</td>\n",
        "      <td>82</td>\n",
        "      <td>T</td>\n",
        "    </tr>\n",
        "    <tr>\n",
        "      <th>2</th>\n",
        "      <td>1481</td>\n",
        "      <td></td>\n",
        "      <td>Pirelli</td>\n",
        "      <td>Pneu Pirelli P Zero 255/35 R19 96Y</td>\n",
        "      <td></td>\n",
        "      <td>0</td>\n",
        "      <td>0.00</td>\n",
        "      <td>Pneus Passeio |</td>\n",
        "      <td></td>\n",
        "      <td>http://www.tireshop.com.br/1481/Pneu-Pirelli-P...</td>\n",
        "      <td>False</td>\n",
        "      <td></td>\n",
        "      <td></td>\n",
        "      <td>http://www.tireshop.com.br/imagens/produtos/pn...</td>\n",
        "      <td>255</td>\n",
        "      <td>35</td>\n",
        "      <td>19</td>\n",
        "      <td>96</td>\n",
        "      <td>Y</td>\n",
        "    </tr>\n",
        "  </tbody>\n",
        "</table>\n",
        "</div>"
       ],
       "metadata": {},
       "output_type": "pyout",
       "prompt_number": 44,
       "text": [
        "   _id.id ean     brand                                      name  \\\n",
        "0    1841      Michelin    Pneu Michelin Primacy 3 225/45 R17 94W   \n",
        "1    1830       Pirelli  Pneu Pirelli Cinturato P4 175/65 R14 82T   \n",
        "2    1481       Pirelli        Pneu Pirelli P Zero 255/35 R19 96Y   \n",
        "\n",
        "  product_type  price  special_price       department category  \\\n",
        "0                 430         404.20  Pneus Passeio |            \n",
        "1                 292         274.48  Pneus Passeio |            \n",
        "2                   0           0.00  Pneus Passeio |            \n",
        "\n",
        "                                                 url available instalments  \\\n",
        "0  http://www.tireshop.com.br/ProdutosDetalheComu...      True           4   \n",
        "1  http://www.tireshop.com.br/1830/Pneu-Pirelli-C...      True           2   \n",
        "2  http://www.tireshop.com.br/1481/Pneu-Pirelli-P...     False               \n",
        "\n",
        "  instalment_value                                          image_url  \\\n",
        "0                   http://www.tireshop.com.br/imagens/produtos/mi...   \n",
        "1                   http://www.tireshop.com.br/imagens/produtos/pi...   \n",
        "2                   http://www.tireshop.com.br/imagens/produtos/pn...   \n",
        "\n",
        "  tyre.width tyre.aspect_ratio tyre.rim_diameter tyre.load_index  \\\n",
        "0        225                45                17              94   \n",
        "1        175                65                14              82   \n",
        "2        255                35                19              96   \n",
        "\n",
        "  tyre.speed_rating  \n",
        "0                 W  \n",
        "1                 T  \n",
        "2                 Y  "
       ]
      }
     ],
     "prompt_number": 44
    },
    {
     "cell_type": "code",
     "collapsed": false,
     "input": [
      "df.to_csv('{}.NEW_SEP.csv'.format(FILE), sep='\\t', orient='records', index=False)"
     ],
     "language": "python",
     "metadata": {},
     "outputs": [],
     "prompt_number": 45
    }
   ],
   "metadata": {}
  }
 ]
}