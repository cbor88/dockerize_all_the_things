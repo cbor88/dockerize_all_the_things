{
 "metadata": {
  "name": "",
  "signature": "sha256:cd8a09a45e469d22c9fd0d50ac71993406852940f87e90c6766c745e63252aa6"
 },
 "nbformat": 3,
 "nbformat_minor": 0,
 "worksheets": [
  {
   "cells": [
    {
     "cell_type": "code",
     "collapsed": false,
     "input": [
      "import re\n",
      "\n",
      "REGEX = r'(pneu|pneus|tyre|tyres|tire|tires)\\s+'\n",
      "my_text = 'PnEU  bridgestone '\n",
      "\n",
      "match = re.match(REGEX, my_text, re.UNICODE|re.IGNORECASE)\n",
      "if match:\n",
      "    found = match.group()\n",
      "    my_text = my_text.replace(found, '').strip()\n",
      "    print my_text"
     ],
     "language": "python",
     "metadata": {},
     "outputs": [
      {
       "output_type": "stream",
       "stream": "stdout",
       "text": [
        "bridgestone\n"
       ]
      }
     ],
     "prompt_number": 9
    },
    {
     "cell_type": "code",
     "collapsed": false,
     "input": [],
     "language": "python",
     "metadata": {},
     "outputs": []
    }
   ],
   "metadata": {}
  }
 ]
}