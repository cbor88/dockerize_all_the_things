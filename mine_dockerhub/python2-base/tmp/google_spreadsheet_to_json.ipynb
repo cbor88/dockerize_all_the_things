{
 "metadata": {
  "name": "",
  "signature": "sha256:801952fffce60ccc4586f6a8c90bd64e05e55aa0112dd3e5d50b7298e53e9ef8"
 },
 "nbformat": 3,
 "nbformat_minor": 0,
 "worksheets": [
  {
   "cells": [
    {
     "cell_type": "markdown",
     "metadata": {},
     "source": [
      "## Converts a spreadsheet on the CSV format to JSON. \n",
      "It also adds an ID (in fact, an \"UUID\") to each row - by applying a SHA1 hash to the \"Spider\" CSV field."
     ]
    },
    {
     "cell_type": "code",
     "collapsed": false,
     "input": [
      "import csv\n",
      "import uuid\n",
      "\n",
      "import numpy as np\n",
      "import pandas as pd\n",
      "\n",
      "FILE = 'files/csvs/paineis_setup.tsv'\n",
      "SEPARATOR = '\\t'\n",
      "\n",
      "df = pd.read_csv(FILE, SEPARATOR, error_bad_lines=False, dtype=np.str)  # dtype sets all fields as str\n",
      "\n",
      "df = df.fillna(value='')"
     ],
     "language": "python",
     "metadata": {},
     "outputs": [],
     "prompt_number": 68
    },
    {
     "cell_type": "code",
     "collapsed": false,
     "input": [
      "df.count()\n"
     ],
     "language": "python",
     "metadata": {},
     "outputs": [
      {
       "metadata": {},
       "output_type": "pyout",
       "prompt_number": 69,
       "text": [
        "Codigo_Operacoes    41\n",
        "Nome                41\n",
        "Paineis             41\n",
        "Spider              41\n",
        "OBS                 41\n",
        "dtype: int64"
       ]
      }
     ],
     "prompt_number": 69
    },
    {
     "cell_type": "code",
     "collapsed": false,
     "input": [
      "df.columns\n"
     ],
     "language": "python",
     "metadata": {},
     "outputs": [
      {
       "metadata": {},
       "output_type": "pyout",
       "prompt_number": 70,
       "text": [
        "Index([u'Codigo_Operacoes', u'Nome', u'Paineis', u'Spider', u'OBS'], dtype='object')"
       ]
      }
     ],
     "prompt_number": 70
    },
    {
     "cell_type": "code",
     "collapsed": false,
     "input": [
      "def make_hash(string):\n",
      "    hashed = uuid.uuid5(uuid.NAMESPACE_OID, string)\n",
      "    return str(hashed)\n",
      "\n",
      "df['_id'] = map(make_hash, df['Spider'])"
     ],
     "language": "python",
     "metadata": {},
     "outputs": [],
     "prompt_number": 71
    },
    {
     "cell_type": "code",
     "collapsed": false,
     "input": [
      "df.head(2)"
     ],
     "language": "python",
     "metadata": {},
     "outputs": [
      {
       "html": [
        "<div style=\"max-width:1500px;overflow:auto;\">\n",
        "<table border=\"1\" class=\"dataframe\">\n",
        "  <thead>\n",
        "    <tr style=\"text-align: right;\">\n",
        "      <th></th>\n",
        "      <th>Codigo_Operacoes</th>\n",
        "      <th>Nome</th>\n",
        "      <th>Paineis</th>\n",
        "      <th>Spider</th>\n",
        "      <th>OBS</th>\n",
        "      <th>_id</th>\n",
        "    </tr>\n",
        "  </thead>\n",
        "  <tbody>\n",
        "    <tr>\n",
        "      <th>0</th>\n",
        "      <td>130</td>\n",
        "      <td>Pneus F\u00e1cil</td>\n",
        "      <td>Pneus</td>\n",
        "      <td>pneus_facil</td>\n",
        "      <td></td>\n",
        "      <td>bad4eaa3-9f23-54ef-962e-69f32efc16b2</td>\n",
        "    </tr>\n",
        "    <tr>\n",
        "      <th>1</th>\n",
        "      <td>55</td>\n",
        "      <td>Colombo</td>\n",
        "      <td>Pneus</td>\n",
        "      <td>colombo</td>\n",
        "      <td></td>\n",
        "      <td>c9421e55-7b63-5dd3-b8d0-9b638a378d2d</td>\n",
        "    </tr>\n",
        "  </tbody>\n",
        "</table>\n",
        "</div>"
       ],
       "metadata": {},
       "output_type": "pyout",
       "prompt_number": 72,
       "text": [
        "  Codigo_Operacoes         Nome Paineis       Spider OBS  \\\n",
        "0              130  Pneus F\u00e1cil   Pneus  pneus_facil       \n",
        "1               55      Colombo   Pneus      colombo       \n",
        "\n",
        "                                    _id  \n",
        "0  bad4eaa3-9f23-54ef-962e-69f32efc16b2  \n",
        "1  c9421e55-7b63-5dd3-b8d0-9b638a378d2d  "
       ]
      }
     ],
     "prompt_number": 72
    },
    {
     "cell_type": "code",
     "collapsed": false,
     "input": [
      "df[['_id', 'Codigo_Operacoes', 'Nome', 'Paineis', 'Spider']].to_json(path_or_buf=FILE + '.json', orient='records')"
     ],
     "language": "python",
     "metadata": {},
     "outputs": [],
     "prompt_number": 73
    }
   ],
   "metadata": {}
  }
 ]
}