{
 "metadata": {
  "name": "",
  "signature": "sha256:96ccca11b477559ffa15f0272b05523e6a72b879b52f72a37da7c326dad542bb"
 },
 "nbformat": 3,
 "nbformat_minor": 0,
 "worksheets": [
  {
   "cells": [
    {
     "cell_type": "markdown",
     "metadata": {},
     "source": [
      "Reference: http://stevenloria.com/how-to-build-a-text-classification-system-with-python-and-textblob/"
     ]
    },
    {
     "cell_type": "code",
     "collapsed": false,
     "input": [
      "from textblob.classifiers import NaiveBayesClassifier\n",
      "from textblob import TextBlob\n",
      " \n",
      "train = [\n",
      "    ('I love this sandwich.', 'pos'),\n",
      "    ('This is an amazing place!', 'pos'),\n",
      "    ('I feel very good about these beers.', 'pos'),\n",
      "    ('This is my best work.', 'pos'),\n",
      "    (\"What an awesome view\", 'pos'),\n",
      "    ('I do not like this restaurant', 'neg'),\n",
      "    ('I am tired of this stuff.', 'neg'),\n",
      "    (\"I can't deal with this\", 'neg'),\n",
      "    ('He is my sworn enemy!', 'neg'),\n",
      "    ('My boss is horrible.', 'neg')\n",
      "]\n",
      "test = [\n",
      "    ('The beer was good.', 'pos'),\n",
      "    ('I do not enjoy my job', 'neg'),\n",
      "    (\"I ain't feeling dandy today.\", 'neg'),\n",
      "    (\"I feel amazing!\", 'pos'),\n",
      "    ('Gary is a friend of mine.', 'pos'),\n",
      "    (\"I can't believe I'm doing this.\", 'neg')\n",
      "]\n",
      " \n",
      "cl = NaiveBayesClassifier(train)\n",
      " \n",
      "# Classify some text\n",
      "print(cl.classify(\"Their burgers are amazing.\"))  # \"pos\"\n",
      "print(cl.classify(\"I don't like their pizza.\"))   # \"neg\"\n",
      " \n",
      "# Compute accuracy\n",
      "print(\"Accuracy: {0}\".format(cl.accuracy(test)))\n",
      " \n",
      "# Show 5 most informative features\n",
      "cl.show_informative_features(5)"
     ],
     "language": "python",
     "metadata": {},
     "outputs": [
      {
       "output_type": "stream",
       "stream": "stdout",
       "text": [
        "pos\n",
        "neg\n",
        "Accuracy: 0.833333333333\n",
        "Most Informative Features\n",
        "          contains(this) = True              neg : pos    =      2.3 : 1.0\n",
        "          contains(this) = False             pos : neg    =      1.8 : 1.0\n",
        "          contains(This) = False             neg : pos    =      1.6 : 1.0\n",
        "            contains(an) = False             neg : pos    =      1.6 : 1.0\n",
        "             contains(I) = False             pos : neg    =      1.4 : 1.0\n"
       ]
      }
     ],
     "prompt_number": 1
    },
    {
     "cell_type": "code",
     "collapsed": false,
     "input": [],
     "language": "python",
     "metadata": {},
     "outputs": []
    }
   ],
   "metadata": {}
  }
 ]
}