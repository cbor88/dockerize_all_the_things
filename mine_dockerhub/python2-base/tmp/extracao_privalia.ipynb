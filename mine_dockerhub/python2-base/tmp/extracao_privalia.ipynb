{
 "metadata": {
  "name": "",
  "signature": "sha256:32c3738f2f544bbdc44923355627ece416df99cb80545c65750402850f90a959"
 },
 "nbformat": 3,
 "nbformat_minor": 0,
 "worksheets": [
  {
   "cells": [
    {
     "cell_type": "markdown",
     "metadata": {},
     "source": [
      "# Analysing a site extraction from mongodb\n",
      "A nice reference comparing pandas to sql: http://pandas.pydata.org/pandas-docs/dev/comparison_with_sql.html"
     ]
    },
    {
     "cell_type": "markdown",
     "metadata": {},
     "source": [
      "## Creating the dataframe and showing some general information about it:"
     ]
    },
    {
     "cell_type": "code",
     "collapsed": false,
     "input": [
      "import os\n",
      "import numpy as np\n",
      "import pandas as pd\n",
      "\n",
      "\n",
      "# Change here for extra, walmart, etc...\n",
      "SPIDER_NAME = 'westwing'\n",
      "\n",
      "\n",
      "# Consolidates vars for the other necessary paths\n",
      "CSV_NAME = '{}.csv'.format(SPIDER_NAME)\n",
      "OUTPUT_URL_LIST_CSV_NAME = '{}.urls.csv'.format(SPIDER_NAME)\n",
      "ROOT_PATH = 'files/extracao_privalia_cnova_20150525/'\n",
      "FULL_INPUT_CSV_PATH = os.path.join(ROOT_PATH, CSV_NAME)\n",
      "FULL_OUTPUT_URL_LIST_CSV_NAME = os.path.join(ROOT_PATH, OUTPUT_URL_LIST_CSV_NAME)\n",
      "\n",
      "# Choose the site here\n",
      "df = pd.read_csv(FULL_INPUT_CSV_PATH)\n",
      "\n",
      "\n",
      "df = df.fillna(value='N/A')\n",
      "\n",
      "total_records = len(df)\n",
      "\n",
      "print \"quantidade de registros: \", str(total_records)"
     ],
     "language": "python",
     "metadata": {},
     "outputs": [
      {
       "output_type": "stream",
       "stream": "stdout",
       "text": [
        "quantidade de registros:  5315\n"
       ]
      }
     ],
     "prompt_number": 32
    },
    {
     "cell_type": "code",
     "collapsed": false,
     "input": [
      "# Show all columns\n",
      "df.columns"
     ],
     "language": "python",
     "metadata": {},
     "outputs": [
      {
       "metadata": {},
       "output_type": "pyout",
       "prompt_number": 33,
       "text": [
        "Index([u'_id.id', u'ean', u'brand', u'department', u'category', u'name', u'product_type', u'price', u'special_price', u'url', u'available', u'instalments', u'instalment_value', u'image_url'], dtype='object')"
       ]
      }
     ],
     "prompt_number": 33
    },
    {
     "cell_type": "code",
     "collapsed": false,
     "input": [
      "# Gets metadata about the dataframe. Nothing really useful on this one,\n",
      "# since there are 2 columns.\n",
      "df.describe()"
     ],
     "language": "python",
     "metadata": {},
     "outputs": [
      {
       "html": [
        "<div style=\"max-height:1000px;max-width:1500px;overflow:auto;\">\n",
        "<table border=\"1\" class=\"dataframe\">\n",
        "  <thead>\n",
        "    <tr style=\"text-align: right;\">\n",
        "      <th></th>\n",
        "      <th>price</th>\n",
        "      <th>special_price</th>\n",
        "    </tr>\n",
        "  </thead>\n",
        "  <tbody>\n",
        "    <tr>\n",
        "      <th>count</th>\n",
        "      <td>  5315.000000</td>\n",
        "      <td>  5315.000000</td>\n",
        "    </tr>\n",
        "    <tr>\n",
        "      <th>mean</th>\n",
        "      <td>   621.061712</td>\n",
        "      <td>   621.061712</td>\n",
        "    </tr>\n",
        "    <tr>\n",
        "      <th>std</th>\n",
        "      <td>  2096.073049</td>\n",
        "      <td>  2096.073049</td>\n",
        "    </tr>\n",
        "    <tr>\n",
        "      <th>min</th>\n",
        "      <td>     7.900000</td>\n",
        "      <td>     7.900000</td>\n",
        "    </tr>\n",
        "    <tr>\n",
        "      <th>25%</th>\n",
        "      <td>    89.900000</td>\n",
        "      <td>    89.900000</td>\n",
        "    </tr>\n",
        "    <tr>\n",
        "      <th>50%</th>\n",
        "      <td>   209.900000</td>\n",
        "      <td>   209.900000</td>\n",
        "    </tr>\n",
        "    <tr>\n",
        "      <th>75%</th>\n",
        "      <td>   489.900000</td>\n",
        "      <td>   489.900000</td>\n",
        "    </tr>\n",
        "    <tr>\n",
        "      <th>max</th>\n",
        "      <td> 95900.000000</td>\n",
        "      <td> 95900.000000</td>\n",
        "    </tr>\n",
        "  </tbody>\n",
        "</table>\n",
        "<p>8 rows \u00d7 2 columns</p>\n",
        "</div>"
       ],
       "metadata": {},
       "output_type": "pyout",
       "prompt_number": 34,
       "text": [
        "              price  special_price\n",
        "count   5315.000000    5315.000000\n",
        "mean     621.061712     621.061712\n",
        "std     2096.073049    2096.073049\n",
        "min        7.900000       7.900000\n",
        "25%       89.900000      89.900000\n",
        "50%      209.900000     209.900000\n",
        "75%      489.900000     489.900000\n",
        "max    95900.000000   95900.000000\n",
        "\n",
        "[8 rows x 2 columns]"
       ]
      }
     ],
     "prompt_number": 34
    },
    {
     "cell_type": "code",
     "collapsed": false,
     "input": [
      "# Show the first 5 records\n",
      "df.head(5)"
     ],
     "language": "python",
     "metadata": {},
     "outputs": [
      {
       "html": [
        "<div style=\"max-height:1000px;max-width:1500px;overflow:auto;\">\n",
        "<table border=\"1\" class=\"dataframe\">\n",
        "  <thead>\n",
        "    <tr style=\"text-align: right;\">\n",
        "      <th></th>\n",
        "      <th>_id.id</th>\n",
        "      <th>ean</th>\n",
        "      <th>brand</th>\n",
        "      <th>department</th>\n",
        "      <th>category</th>\n",
        "      <th>name</th>\n",
        "      <th>product_type</th>\n",
        "      <th>price</th>\n",
        "      <th>special_price</th>\n",
        "      <th>url</th>\n",
        "      <th>available</th>\n",
        "      <th>instalments</th>\n",
        "      <th>instalment_value</th>\n",
        "      <th>image_url</th>\n",
        "    </tr>\n",
        "  </thead>\n",
        "  <tbody>\n",
        "    <tr>\n",
        "      <th>0</th>\n",
        "      <td> OR691WWAO946BR</td>\n",
        "      <td> N/A</td>\n",
        "      <td>   Or Design</td>\n",
        "      <td>  Design do s\u00e9culo XX</td>\n",
        "      <td> N/A</td>\n",
        "      <td> CADEIRA RONDEN - TRANSPARENTE</td>\n",
        "      <td> N/A</td>\n",
        "      <td>  469.9</td>\n",
        "      <td>  469.9</td>\n",
        "      <td> http://www.westwing.com.br/CADEIRA-RONDEN-TRAN...</td>\n",
        "      <td> N/A</td>\n",
        "      <td> 6</td>\n",
        "      <td>  78.32</td>\n",
        "      <td> http://static.westwing.com.br/i/0989/BR-OR691W...</td>\n",
        "    </tr>\n",
        "    <tr>\n",
        "      <th>1</th>\n",
        "      <td> LY089WWAOC5TBR</td>\n",
        "      <td> N/A</td>\n",
        "      <td> LYOR DESIGN</td>\n",
        "      <td>     Tra\u00e7os de primor</td>\n",
        "      <td> N/A</td>\n",
        "      <td>  PRATO DE DOCES LEAVES - 24CM</td>\n",
        "      <td> N/A</td>\n",
        "      <td>  189.9</td>\n",
        "      <td>  189.9</td>\n",
        "      <td> http://www.westwing.com.br/PRATO-DE-DOCES-LEAV...</td>\n",
        "      <td> N/A</td>\n",
        "      <td> 6</td>\n",
        "      <td>  31.65</td>\n",
        "      <td> http://static.westwing.com.br/i/3618/BR-LY089W...</td>\n",
        "    </tr>\n",
        "    <tr>\n",
        "      <th>2</th>\n",
        "      <td> DA354WWAHJEDBR</td>\n",
        "      <td> N/A</td>\n",
        "      <td>         Daf</td>\n",
        "      <td>            Sof\u00e1 Shop</td>\n",
        "      <td> N/A</td>\n",
        "      <td>      SOF\u00c1 MIMO - CINZA FRESCO</td>\n",
        "      <td> N/A</td>\n",
        "      <td> 1489.0</td>\n",
        "      <td> 1489.0</td>\n",
        "      <td> http://www.westwing.com.br/SOFA-MIMO-CINZA-FRE...</td>\n",
        "      <td> N/A</td>\n",
        "      <td> 6</td>\n",
        "      <td> 248.17</td>\n",
        "      <td> http://static.westwing.com.br/i/2731/BR-DA354W...</td>\n",
        "    </tr>\n",
        "    <tr>\n",
        "      <th>3</th>\n",
        "      <td> FA292WWAO8Q4BR</td>\n",
        "      <td> N/A</td>\n",
        "      <td>  F\u00e1bio Pace</td>\n",
        "      <td> Artistas consagrados</td>\n",
        "      <td> N/A</td>\n",
        "      <td>      PINTURA LXXXIV - 30X20CM</td>\n",
        "      <td> N/A</td>\n",
        "      <td>  214.9</td>\n",
        "      <td>  214.9</td>\n",
        "      <td> http://www.westwing.com.br/PINTURA-LXXXIV-30X2...</td>\n",
        "      <td> N/A</td>\n",
        "      <td> 6</td>\n",
        "      <td>  35.82</td>\n",
        "      <td> http://static.westwing.com.br/i/0253/BR-FA292W...</td>\n",
        "    </tr>\n",
        "    <tr>\n",
        "      <th>4</th>\n",
        "      <td> UD229WWAO4D1BR</td>\n",
        "      <td> N/A</td>\n",
        "      <td>         UDI</td>\n",
        "      <td>             Eco home</td>\n",
        "      <td> N/A</td>\n",
        "      <td>  PRATELEIRA HASHTAG - 70X70CM</td>\n",
        "      <td> N/A</td>\n",
        "      <td>   89.9</td>\n",
        "      <td>   89.9</td>\n",
        "      <td> http://www.westwing.com.br/PRATELEIRA-HASHTAG-...</td>\n",
        "      <td> N/A</td>\n",
        "      <td> 2</td>\n",
        "      <td>  44.95</td>\n",
        "      <td> http://static.westwing.com.br/i/4772/BR-UD229W...</td>\n",
        "    </tr>\n",
        "  </tbody>\n",
        "</table>\n",
        "<p>5 rows \u00d7 14 columns</p>\n",
        "</div>"
       ],
       "metadata": {},
       "output_type": "pyout",
       "prompt_number": 35,
       "text": [
        "           _id.id  ean        brand            department category  \\\n",
        "0  OR691WWAO946BR  N/A    Or Design   Design do s\u00e9culo XX      N/A   \n",
        "1  LY089WWAOC5TBR  N/A  LYOR DESIGN      Tra\u00e7os de primor      N/A   \n",
        "2  DA354WWAHJEDBR  N/A          Daf             Sof\u00e1 Shop      N/A   \n",
        "3  FA292WWAO8Q4BR  N/A   F\u00e1bio Pace  Artistas consagrados      N/A   \n",
        "4  UD229WWAO4D1BR  N/A          UDI              Eco home      N/A   \n",
        "\n",
        "                            name product_type   price  special_price  \\\n",
        "0  CADEIRA RONDEN - TRANSPARENTE          N/A   469.9          469.9   \n",
        "1   PRATO DE DOCES LEAVES - 24CM          N/A   189.9          189.9   \n",
        "2       SOF\u00c1 MIMO - CINZA FRESCO          N/A  1489.0         1489.0   \n",
        "3       PINTURA LXXXIV - 30X20CM          N/A   214.9          214.9   \n",
        "4   PRATELEIRA HASHTAG - 70X70CM          N/A    89.9           89.9   \n",
        "\n",
        "                                                 url available instalments  \\\n",
        "0  http://www.westwing.com.br/CADEIRA-RONDEN-TRAN...       N/A           6   \n",
        "1  http://www.westwing.com.br/PRATO-DE-DOCES-LEAV...       N/A           6   \n",
        "2  http://www.westwing.com.br/SOFA-MIMO-CINZA-FRE...       N/A           6   \n",
        "3  http://www.westwing.com.br/PINTURA-LXXXIV-30X2...       N/A           6   \n",
        "4  http://www.westwing.com.br/PRATELEIRA-HASHTAG-...       N/A           2   \n",
        "\n",
        "  instalment_value                                          image_url  \n",
        "0            78.32  http://static.westwing.com.br/i/0989/BR-OR691W...  \n",
        "1            31.65  http://static.westwing.com.br/i/3618/BR-LY089W...  \n",
        "2           248.17  http://static.westwing.com.br/i/2731/BR-DA354W...  \n",
        "3            35.82  http://static.westwing.com.br/i/0253/BR-FA292W...  \n",
        "4            44.95  http://static.westwing.com.br/i/4772/BR-UD229W...  \n",
        "\n",
        "[5 rows x 14 columns]"
       ]
      }
     ],
     "prompt_number": 35
    },
    {
     "cell_type": "code",
     "collapsed": false,
     "input": [
      "# A list of all product urls where the brand is \"HP\":\n",
      "# df[df['brand'].isin(['HP'])]['url'].values"
     ],
     "language": "python",
     "metadata": {},
     "outputs": [],
     "prompt_number": 36
    },
    {
     "cell_type": "markdown",
     "metadata": {},
     "source": [
      "## Validation of the extracted data"
     ]
    },
    {
     "cell_type": "markdown",
     "metadata": {},
     "source": [
      "## \"Perl\" validation \n",
      "\n",
      "- Deve conter name e sku;\n",
      "- Produto sem qualquer um dos pre\u00e7os \u00e9 considerado indispon\u00edvel;\n",
      "- Produto com flag indispon\u00edvel, os pre\u00e7os s\u00e3o zerados;\n",
      "- (?Crawler-Artur) Codigo de barras \u00e9 descartado quando tfor < 8 digitos, > 14 digitos ou = 9 digitos;\n",
      "- (?Crawler-Artur) todos os campos s\u00e3o removidos os espa\u00e7os no in\u00edcio e fim da string;"
     ]
    },
    {
     "cell_type": "markdown",
     "metadata": {},
     "source": [
      "### Products without category, department, product_type and brand"
     ]
    },
    {
     "cell_type": "code",
     "collapsed": false,
     "input": [
      "qtde_sem_categoria = len(df[df['category'].isin(['N/A'])])\n",
      "qtde_sem_departamento = len(df[df['department'].isin(['N/A'])])\n",
      "qtde_sem_tipo_produto = len(df[df['product_type'].isin(['N/A'])])\n",
      "qtde_sem_brand = len(df[df['brand'].isin(['N/A'])])\n",
      "qtde_not_available = len(df[df['available'].isin([False])])\n",
      "qtde_sem_ean = len(df[df['ean'].isin(['N/A'])])\n",
      "print \"SEM CATEGORIA: \", str(qtde_sem_categoria)\n",
      "print \"SEM DEPARTAMENTO: \", str(qtde_sem_departamento)\n",
      "print \"SEM TIPO DE PRODUTO: \", str(qtde_sem_tipo_produto)\n",
      "print \"SEM BRAND: \", str(qtde_sem_brand)\n",
      "print u\"INDISPON\u00cdVEIS: \", str(qtde_not_available)\n",
      "qtde_com_categoria = len(df) - qtde_sem_categoria\n",
      "qtde_com_brand = len(df) - qtde_sem_brand\n",
      "qtde_com_ean = len(df) - qtde_sem_ean\n",
      "\n",
      "print \"SEM EAN: \", str(qtde_sem_ean)\n",
      "print \"COM EAN: \", str(qtde_com_ean)\n"
     ],
     "language": "python",
     "metadata": {},
     "outputs": [
      {
       "output_type": "stream",
       "stream": "stdout",
       "text": [
        "SEM CATEGORIA:  5315\n",
        "SEM DEPARTAMENTO:  0\n",
        "SEM TIPO DE PRODUTO:  5315\n",
        "SEM BRAND:  0\n",
        "INDISPON\u00cdVEIS:  0\n",
        "SEM EAN:  5315\n",
        "COM EAN:  0\n"
       ]
      }
     ],
     "prompt_number": 37
    },
    {
     "cell_type": "code",
     "collapsed": false,
     "input": [],
     "language": "python",
     "metadata": {},
     "outputs": [],
     "prompt_number": 37
    }
   ],
   "metadata": {}
  }
 ]
}