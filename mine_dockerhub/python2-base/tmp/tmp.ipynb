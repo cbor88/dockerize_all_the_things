{
 "metadata": {
  "name": "",
  "signature": "sha256:532f6dc8352a2817e877913db9579ad739675f69ee165ee09aa4e99e378e2f30"
 },
 "nbformat": 3,
 "nbformat_minor": 0,
 "worksheets": [
  {
   "cells": [
    {
     "cell_type": "code",
     "collapsed": false,
     "input": [
      "import csv\n",
      "import re\n",
      "\n",
      "FILE = 'files/csvs/americanas.csv'\n",
      "\n",
      "with open(FILE, 'r') as input:\n",
      "    all_contents = input.read().replace('\\n', '')\n",
      "\n",
      "# print all_contents    \n",
      "    \n",
      "print 'LENGTH IN CHARS: {}'.format(len(all_contents))"
     ],
     "language": "python",
     "metadata": {},
     "outputs": [
      {
       "output_type": "stream",
       "stream": "stdout",
       "text": [
        "LENGTH IN CHARS: 4771918\n"
       ]
      }
     ],
     "prompt_number": 22
    },
    {
     "cell_type": "code",
     "collapsed": false,
     "input": [
      "# REGEX = r\"'request_url': '([^']+)'\"\n",
      "\n",
      "all_contents = \"aa'request_url': 'http://localhost'bb\"\n",
      "\n",
      "REGEX = r\"'request_url': '(?P<url>[^']+)'\"\n",
      "\n",
      "re.compile(REGEX, re.UNICODE | re.IGNORECASE).findall(all_contents)"
     ],
     "language": "python",
     "metadata": {},
     "outputs": [
      {
       "metadata": {},
       "output_type": "pyout",
       "prompt_number": 31,
       "text": [
        "['http://localhost']"
       ]
      }
     ],
     "prompt_number": 31
    },
    {
     "cell_type": "code",
     "collapsed": false,
     "input": [],
     "language": "python",
     "metadata": {},
     "outputs": []
    }
   ],
   "metadata": {}
  }
 ]
}