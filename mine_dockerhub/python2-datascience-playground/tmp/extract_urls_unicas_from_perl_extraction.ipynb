{
 "metadata": {
  "name": "",
  "signature": "sha256:704b37905bc85f4aadfbe72eb88bab0585e3f9429fd709e70c9542002c1b8429"
 },
 "nbformat": 3,
 "nbformat_minor": 0,
 "worksheets": [
  {
   "cells": [
    {
     "cell_type": "code",
     "collapsed": false,
     "input": [
      "from pandas import DataFrame\n",
      "\n",
      "\n",
      "import csv\n",
      "\n",
      "import numpy as np\n",
      "import pandas as pd\n",
      "\n",
      "FILE = 'files/csvs/MagazineLuiza.csv'\n",
      "SEPARATOR = '\\t'\n",
      "\n",
      "df = pd.read_csv(FILE, SEPARATOR, error_bad_lines=False)\n",
      "# df = pd.read_csv(FILE, SEPARATOR, error_bad_lines=False, quoting=csv.QUOTE_NONE)\n",
      "\n",
      "df = df.fillna(value='')"
     ],
     "language": "python",
     "metadata": {},
     "outputs": [],
     "prompt_number": 12
    },
    {
     "cell_type": "code",
     "collapsed": false,
     "input": [
      "df.count()\n"
     ],
     "language": "python",
     "metadata": {},
     "outputs": [
      {
       "metadata": {},
       "output_type": "pyout",
       "prompt_number": 2,
       "text": [
        "SKU                     56546\n",
        "Variacao pai            56546\n",
        "SKU pai                 56546\n",
        "Nome                    56546\n",
        "Fabricante              56546\n",
        "Tipo Produto            56546\n",
        "Departamento Parser     56546\n",
        "Departamento Crawler    56546\n",
        "Categoria Parser        56546\n",
        "Categoria Crawler       56546\n",
        "GTIN                    56546\n",
        "MPN                     56546\n",
        "Bytes                   56546\n",
        "Litros                  56546\n",
        "Tamanho                 56546\n",
        "Qtd. Embalagem          56546\n",
        "Cor                     56546\n",
        "Peso                    56546\n",
        "Genero                  56546\n",
        "Volume                  56546\n",
        "Voltagem                56546\n",
        "Disponibilidade         56546\n",
        "Preco                   56546\n",
        "Preco oferta            56546\n",
        "URL                     56546\n",
        "Imagem                  56546\n",
        "Possible SKUs           56546\n",
        "Possible EAN            56546\n",
        "dtype: int64"
       ]
      }
     ],
     "prompt_number": 2
    },
    {
     "cell_type": "code",
     "collapsed": false,
     "input": [
      "df.columns\n"
     ],
     "language": "python",
     "metadata": {},
     "outputs": [
      {
       "metadata": {},
       "output_type": "pyout",
       "prompt_number": 3,
       "text": [
        "Index([u'SKU', u'Variacao pai', u'SKU pai', u'Nome', u'Fabricante',\n",
        "       u'Tipo Produto', u'Departamento Parser', u'Departamento Crawler',\n",
        "       u'Categoria Parser', u'Categoria Crawler', u'GTIN', u'MPN', u'Bytes',\n",
        "       u'Litros', u'Tamanho', u'Qtd. Embalagem', u'Cor', u'Peso', u'Genero',\n",
        "       u'Volume', u'Voltagem', u'Disponibilidade', u'Preco', u'Preco oferta',\n",
        "       u'URL', u'Imagem', u'Possible SKUs', u'Possible EAN'],\n",
        "      dtype='object')"
       ]
      }
     ],
     "prompt_number": 3
    },
    {
     "cell_type": "code",
     "collapsed": false,
     "input": [
      "df.head(2)"
     ],
     "language": "python",
     "metadata": {},
     "outputs": [
      {
       "html": [
        "<div style=\"max-width:1500px;overflow:auto;\">\n",
        "<table border=\"1\" class=\"dataframe\">\n",
        "  <thead>\n",
        "    <tr style=\"text-align: right;\">\n",
        "      <th></th>\n",
        "      <th>SKU</th>\n",
        "      <th>Variacao pai</th>\n",
        "      <th>SKU pai</th>\n",
        "      <th>Nome</th>\n",
        "      <th>Fabricante</th>\n",
        "      <th>Tipo Produto</th>\n",
        "      <th>Departamento Parser</th>\n",
        "      <th>Departamento Crawler</th>\n",
        "      <th>Categoria Parser</th>\n",
        "      <th>Categoria Crawler</th>\n",
        "      <th>...</th>\n",
        "      <th>Genero</th>\n",
        "      <th>Volume</th>\n",
        "      <th>Voltagem</th>\n",
        "      <th>Disponibilidade</th>\n",
        "      <th>Preco</th>\n",
        "      <th>Preco oferta</th>\n",
        "      <th>URL</th>\n",
        "      <th>Imagem</th>\n",
        "      <th>Possible SKUs</th>\n",
        "      <th>Possible EAN</th>\n",
        "    </tr>\n",
        "  </thead>\n",
        "  <tbody>\n",
        "    <tr>\n",
        "      <th>0</th>\n",
        "      <td>201304700</td>\n",
        "      <td>0</td>\n",
        "      <td>2013047-0</td>\n",
        "      <td>Cartucho de Tinta Preto - Epson DuraBrite T072126</td>\n",
        "      <td>Epson</td>\n",
        "      <td>Cartucho</td>\n",
        "      <td>Inform\u00e1tica e acess\u00f3rios</td>\n",
        "      <td></td>\n",
        "      <td>Cartuchos e toners epson</td>\n",
        "      <td></td>\n",
        "      <td>...</td>\n",
        "      <td></td>\n",
        "      <td></td>\n",
        "      <td></td>\n",
        "      <td>2</td>\n",
        "      <td>119</td>\n",
        "      <td>119</td>\n",
        "      <td>http://www.magazineluiza.com.br/cartucho-de-ti...</td>\n",
        "      <td>http://i.mlcdn.com.br/470x352/cartucho-de-tint...</td>\n",
        "      <td>201304700</td>\n",
        "      <td></td>\n",
        "    </tr>\n",
        "    <tr>\n",
        "      <th>1</th>\n",
        "      <td>2013047-0</td>\n",
        "      <td>1</td>\n",
        "      <td></td>\n",
        "      <td>Cartucho de Tinta Preto - Epson DuraBrite T072126</td>\n",
        "      <td>Epson</td>\n",
        "      <td>Cartucho</td>\n",
        "      <td>Inform\u00e1tica e acess\u00f3rios</td>\n",
        "      <td></td>\n",
        "      <td>Cartuchos e toners epson</td>\n",
        "      <td></td>\n",
        "      <td>...</td>\n",
        "      <td></td>\n",
        "      <td></td>\n",
        "      <td></td>\n",
        "      <td>2</td>\n",
        "      <td>119</td>\n",
        "      <td>119</td>\n",
        "      <td>http://www.magazineluiza.com.br/cartucho-de-ti...</td>\n",
        "      <td>http://i.mlcdn.com.br/470x352/cartucho-de-tint...</td>\n",
        "      <td>2013047-0,2013047</td>\n",
        "      <td></td>\n",
        "    </tr>\n",
        "  </tbody>\n",
        "</table>\n",
        "<p>2 rows \u00d7 28 columns</p>\n",
        "</div>"
       ],
       "metadata": {},
       "output_type": "pyout",
       "prompt_number": 4,
       "text": [
        "         SKU  Variacao pai    SKU pai  \\\n",
        "0  201304700             0  2013047-0   \n",
        "1  2013047-0             1              \n",
        "\n",
        "                                                Nome Fabricante Tipo Produto  \\\n",
        "0  Cartucho de Tinta Preto - Epson DuraBrite T072126      Epson     Cartucho   \n",
        "1  Cartucho de Tinta Preto - Epson DuraBrite T072126      Epson     Cartucho   \n",
        "\n",
        "        Departamento Parser Departamento Crawler          Categoria Parser  \\\n",
        "0  Inform\u00e1tica e acess\u00f3rios                       Cartuchos e toners epson   \n",
        "1  Inform\u00e1tica e acess\u00f3rios                       Cartuchos e toners epson   \n",
        "\n",
        "  Categoria Crawler     ...      Genero Volume Voltagem Disponibilidade Preco  \\\n",
        "0                       ...                                           2   119   \n",
        "1                       ...                                           2   119   \n",
        "\n",
        "  Preco oferta                                                URL  \\\n",
        "0          119  http://www.magazineluiza.com.br/cartucho-de-ti...   \n",
        "1          119  http://www.magazineluiza.com.br/cartucho-de-ti...   \n",
        "\n",
        "                                              Imagem      Possible SKUs  \\\n",
        "0  http://i.mlcdn.com.br/470x352/cartucho-de-tint...          201304700   \n",
        "1  http://i.mlcdn.com.br/470x352/cartucho-de-tint...  2013047-0,2013047   \n",
        "\n",
        "  Possible EAN  \n",
        "0               \n",
        "1               \n",
        "\n",
        "[2 rows x 28 columns]"
       ]
      }
     ],
     "prompt_number": 4
    },
    {
     "cell_type": "code",
     "collapsed": false,
     "input": [
      "# All distinct values for the field.\n",
      "urls = df['URL'].unique()\n",
      "print \"TOTAL OF UNIQUE URLs: {}, typeof: {}\".format(len(urls), type(urls))\n",
      "urls"
     ],
     "language": "python",
     "metadata": {},
     "outputs": [
      {
       "output_type": "stream",
       "stream": "stdout",
       "text": [
        "TOTAL OF UNIQUE URLs: 27334, typeof: <type 'numpy.ndarray'>\n"
       ]
      },
      {
       "metadata": {},
       "output_type": "pyout",
       "prompt_number": 19,
       "text": [
        "array([ 'http://www.magazineluiza.com.br/cartucho-de-tinta-preto-epson-durabrite-t072126/p/2013047/ia/iatp/',\n",
        "       'http://www.magazineluiza.com.br/cobreleito-queen-size-victoria-vida-bela-200-fios-3-pecas-100-algodao-kacyumara/p/2081650/cm/cama/',\n",
        "       'http://www.magazineluiza.com.br/micro-ondas-consul-bem-estar-cmk38ab-38l-com-trava-de-seguranca/p/0113372/ed/mond/',\n",
        "       ...,\n",
        "       'http://www.magazineluiza.com.br/geladeira-refrigerador-brastemp-frost-free-duplex-565l-inox-ative-painel-touch-inverse-maxi-brv80ar/p/0100687/ed/refr/',\n",
        "       'http://www.magazineluiza.com.br/lencol-avulso-casal-100-algodao-santista-royal-tingidos-branco/p/0843909/cm/ctcc/',\n",
        "       'http://www.magazineluiza.com.br/500-cupcakes-muffins-marco-zero/p/0868723/li/ldrc/'], dtype=object)"
       ]
      }
     ],
     "prompt_number": 19
    },
    {
     "cell_type": "code",
     "collapsed": false,
     "input": [
      "urls_df = DataFrame(data=urls)\n",
      "urls_df.head(3)"
     ],
     "language": "python",
     "metadata": {},
     "outputs": [
      {
       "html": [
        "<div style=\"max-width:1500px;overflow:auto;\">\n",
        "<table border=\"1\" class=\"dataframe\">\n",
        "  <thead>\n",
        "    <tr style=\"text-align: right;\">\n",
        "      <th></th>\n",
        "      <th>0</th>\n",
        "    </tr>\n",
        "  </thead>\n",
        "  <tbody>\n",
        "    <tr>\n",
        "      <th>0</th>\n",
        "      <td>http://www.magazineluiza.com.br/cartucho-de-ti...</td>\n",
        "    </tr>\n",
        "    <tr>\n",
        "      <th>1</th>\n",
        "      <td>http://www.magazineluiza.com.br/cobreleito-que...</td>\n",
        "    </tr>\n",
        "    <tr>\n",
        "      <th>2</th>\n",
        "      <td>http://www.magazineluiza.com.br/micro-ondas-co...</td>\n",
        "    </tr>\n",
        "  </tbody>\n",
        "</table>\n",
        "</div>"
       ],
       "metadata": {},
       "output_type": "pyout",
       "prompt_number": 21,
       "text": [
        "                                                   0\n",
        "0  http://www.magazineluiza.com.br/cartucho-de-ti...\n",
        "1  http://www.magazineluiza.com.br/cobreleito-que...\n",
        "2  http://www.magazineluiza.com.br/micro-ondas-co..."
       ]
      }
     ],
     "prompt_number": 21
    },
    {
     "cell_type": "code",
     "collapsed": false,
     "input": [
      "urls_df.to_csv('files/csvs/MagazineLuiza.urls.txt', sep='\\t', orient='records', index=False)"
     ],
     "language": "python",
     "metadata": {},
     "outputs": [],
     "prompt_number": 22
    },
    {
     "cell_type": "code",
     "collapsed": false,
     "input": [],
     "language": "python",
     "metadata": {},
     "outputs": []
    }
   ],
   "metadata": {}
  }
 ]
}