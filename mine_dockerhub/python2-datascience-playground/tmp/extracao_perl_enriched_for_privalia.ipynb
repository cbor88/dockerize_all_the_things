{
 "metadata": {
  "name": "",
  "signature": "sha256:9eef23796145a638069c4505c02d6bf48a5d45e654789031fab7a988976907d1"
 },
 "nbformat": 3,
 "nbformat_minor": 0,
 "worksheets": [
  {
   "cells": [
    {
     "cell_type": "markdown",
     "metadata": {},
     "source": [
      "# Analysing an ENRICHED perl site extraction for PRIVALIA\n"
     ]
    },
    {
     "cell_type": "code",
     "collapsed": false,
     "input": [
      "import os\n",
      "import numpy as np\n",
      "import pandas as pd\n",
      "\n",
      "\n",
      "# Consolidates vars for the other necessary paths\n",
      "CSV_NAME = 'files/enricher/Americanas_3.csv.LISA.csv'\n",
      "\n",
      "df = pd.read_csv(CSV_NAME, sep=\"\\t\", error_bad_lines=False)\n",
      "df = df.fillna(value='N/A')\n",
      "\n",
      "total_records = len(df)\n",
      "\n",
      "print \"quantidade de registros: \", str(total_records)"
     ],
     "language": "python",
     "metadata": {},
     "outputs": [
      {
       "output_type": "stream",
       "stream": "stderr",
       "text": [
        "Skipping line 44011: expected 28 fields, saw 30\n",
        "Skipping line 45043: expected 28 fields, saw 30\n",
        "Skipping line 45812: expected 28 fields, saw 32\n",
        "Skipping line 49050: expected 28 fields, saw 32\n",
        "Skipping line 49206: expected 28 fields, saw 30\n",
        "Skipping line 49462: expected 28 fields, saw 30\n",
        "Skipping line 49540: expected 28 fields, saw 30\n",
        "Skipping line 49801: expected 28 fields, saw 36\n",
        "Skipping line 49933: expected 28 fields, saw 32\n",
        "Skipping line 50107: expected 28 fields, saw 30\n",
        "Skipping line 50217: expected 28 fields, saw 30\n",
        "Skipping line 50607: expected 28 fields, saw 34\n",
        "Skipping line 50780: expected 28 fields, saw 38\n",
        "Skipping line 50871: expected 28 fields, saw 30\n",
        "Skipping line 50993: expected 28 fields, saw 38\n",
        "Skipping line 51088: expected 28 fields, saw 32\n",
        "Skipping line 51172: expected 28 fields, saw 32\n",
        "Skipping line 51277: expected 28 fields, saw 32\n",
        "Skipping line 51392: expected 28 fields, saw 36\n",
        "Skipping line 51510: expected 28 fields, saw 30\n",
        "Skipping line 51631: expected 28 fields, saw 42\n",
        "Skipping line 51835: expected 28 fields, saw 30\n",
        "Skipping line 52451: expected 28 fields, saw 30\n",
        "Skipping line 52632: expected 28 fields, saw 30\n",
        "Skipping line 54970: expected 28 fields, saw 30\n",
        "Skipping line 55164: expected 28 fields, saw 30\n",
        "Skipping line 60358: expected 28 fields, saw 34\n",
        "Skipping line 61617: expected 28 fields, saw 30\n",
        "\n",
        "Skipping line 67770: expected 28 fields, saw 30\n",
        "Skipping line 67853: expected 28 fields, saw 30\n",
        "Skipping line 71108: expected 28 fields, saw 32\n",
        "Skipping line 71126: expected 28 fields, saw 30\n",
        "Skipping line 71693: expected 28 fields, saw 30\n",
        "Skipping line 77520: expected 28 fields, saw 30\n",
        "Skipping line 77670: expected 28 fields, saw 30\n",
        "Skipping line 81208: expected 28 fields, saw 32\n",
        "Skipping line 81262: expected 28 fields, saw 30\n",
        "Skipping line 86201: expected 28 fields, saw 32\n",
        "Skipping line 91068: expected 28 fields, saw 30\n",
        "Skipping line 92463: expected 28 fields, saw 32\n",
        "Skipping line 92487: expected 28 fields, saw 32\n",
        "Skipping line 92633: expected 28 fields, saw 30\n"
       ]
      },
      {
       "output_type": "stream",
       "stream": "stderr",
       "text": [
        "\n",
        "Skipping line 98685: expected 28 fields, saw 30\n",
        "Skipping line 100135: expected 28 fields, saw 30\n",
        "Skipping line 100401: expected 28 fields, saw 30\n",
        "Skipping line 100920: expected 28 fields, saw 30\n",
        "Skipping line 109210: expected 28 fields, saw 30\n",
        "Skipping line 111441: expected 28 fields, saw 30\n",
        "Skipping line 112372: expected 28 fields, saw 30\n",
        "Skipping line 113508: expected 28 fields, saw 30\n",
        "Skipping line 114979: expected 28 fields, saw 30\n",
        "Skipping line 116890: expected 28 fields, saw 30\n",
        "Skipping line 121857: expected 28 fields, saw 30\n",
        "Skipping line 122841: expected 28 fields, saw 30\n",
        "Skipping line 122987: expected 28 fields, saw 30\n",
        "Skipping line 123164: expected 28 fields, saw 30\n",
        "Skipping line 123237: expected 28 fields, saw 30\n",
        "Skipping line 124576: expected 28 fields, saw 30\n",
        "Skipping line 124744: expected 28 fields, saw 30\n",
        "Skipping line 125555: expected 28 fields, saw 30\n",
        "Skipping line 126114: expected 28 fields, saw 30\n",
        "Skipping line 126747: expected 28 fields, saw 30\n",
        "Skipping line 127552: expected 28 fields, saw 30\n",
        "Skipping line 127717: expected 28 fields, saw 30\n",
        "Skipping line 128666: expected 28 fields, saw 30\n",
        "Skipping line 129054: expected 28 fields, saw 30\n",
        "Skipping line 129281: expected 28 fields, saw 30\n",
        "Skipping line 130145: expected 28 fields, saw 30\n",
        "Skipping line 130178: expected 28 fields, saw 30\n"
       ]
      },
      {
       "output_type": "stream",
       "stream": "stderr",
       "text": [
        "\n",
        "Skipping line 132785: expected 28 fields, saw 32\n",
        "Skipping line 133931: expected 28 fields, saw 34\n",
        "Skipping line 133995: expected 28 fields, saw 34\n",
        "Skipping line 135646: expected 28 fields, saw 30\n",
        "Skipping line 136412: expected 28 fields, saw 30\n",
        "Skipping line 138728: expected 28 fields, saw 30\n",
        "Skipping line 140329: expected 28 fields, saw 30\n",
        "Skipping line 141358: expected 28 fields, saw 30\n",
        "Skipping line 143074: expected 28 fields, saw 30\n",
        "Skipping line 143440: expected 28 fields, saw 30\n",
        "Skipping line 149447: expected 28 fields, saw 30\n",
        "Skipping line 149543: expected 28 fields, saw 30\n",
        "Skipping line 151962: expected 28 fields, saw 30\n",
        "Skipping line 154784: expected 28 fields, saw 30\n",
        "Skipping line 155520: expected 28 fields, saw 30\n",
        "Skipping line 155724: expected 28 fields, saw 30\n",
        "Skipping line 158358: expected 28 fields, saw 30\n",
        "Skipping line 158413: expected 28 fields, saw 30\n",
        "Skipping line 159169: expected 28 fields, saw 30\n"
       ]
      },
      {
       "output_type": "stream",
       "stream": "stderr",
       "text": [
        "\n",
        "Skipping line 167897: expected 28 fields, saw 30\n",
        "Skipping line 167898: expected 28 fields, saw 30\n",
        "Skipping line 177831: expected 28 fields, saw 30\n",
        "Skipping line 177928: expected 28 fields, saw 30\n",
        "Skipping line 178005: expected 28 fields, saw 30\n",
        "Skipping line 183038: expected 28 fields, saw 30\n",
        "Skipping line 183093: expected 28 fields, saw 30\n",
        "Skipping line 183753: expected 28 fields, saw 30\n",
        "Skipping line 186021: expected 28 fields, saw 30\n",
        "Skipping line 186030: expected 28 fields, saw 30\n",
        "Skipping line 186453: expected 28 fields, saw 30\n",
        "Skipping line 187384: expected 28 fields, saw 30\n",
        "Skipping line 187460: expected 28 fields, saw 30\n",
        "Skipping line 188014: expected 28 fields, saw 30\n",
        "Skipping line 189007: expected 28 fields, saw 30\n",
        "Skipping line 189050: expected 28 fields, saw 30\n",
        "Skipping line 189149: expected 28 fields, saw 32\n",
        "Skipping line 189222: expected 28 fields, saw 30\n",
        "Skipping line 189553: expected 28 fields, saw 32\n",
        "Skipping line 190322: expected 28 fields, saw 30\n",
        "Skipping line 191701: expected 28 fields, saw 30\n",
        "Skipping line 192463: expected 28 fields, saw 30\n",
        "Skipping line 192890: expected 28 fields, saw 30\n",
        "Skipping line 194742: expected 28 fields, saw 30\n",
        "Skipping line 195652: expected 28 fields, saw 32\n",
        "Skipping line 195982: expected 28 fields, saw 30\n",
        "Skipping line 196164: expected 28 fields, saw 30\n",
        "Skipping line 196194: expected 28 fields, saw 30\n",
        "Skipping line 196290: expected 28 fields, saw 30\n",
        "Skipping line 196691: expected 28 fields, saw 30\n"
       ]
      },
      {
       "output_type": "stream",
       "stream": "stderr",
       "text": [
        "\n",
        "Skipping line 204979: expected 28 fields, saw 30\n",
        "Skipping line 205812: expected 28 fields, saw 30\n",
        "Skipping line 207348: expected 28 fields, saw 30\n",
        "Skipping line 207674: expected 28 fields, saw 30\n",
        "Skipping line 223069: expected 28 fields, saw 30\n",
        "Skipping line 225308: expected 28 fields, saw 30\n",
        "Skipping line 227140: expected 28 fields, saw 30\n",
        "Skipping line 228126: expected 28 fields, saw 30\n"
       ]
      },
      {
       "output_type": "stream",
       "stream": "stderr",
       "text": [
        "\n",
        "Skipping line 231531: expected 28 fields, saw 30\n",
        "Skipping line 236681: expected 28 fields, saw 30\n",
        "Skipping line 238246: expected 28 fields, saw 30\n",
        "Skipping line 238666: expected 28 fields, saw 30\n",
        "Skipping line 239970: expected 28 fields, saw 30\n",
        "Skipping line 241934: expected 28 fields, saw 30\n",
        "Skipping line 246788: expected 28 fields, saw 30\n",
        "Skipping line 247545: expected 28 fields, saw 30\n",
        "Skipping line 258443: expected 28 fields, saw 30\n",
        "Skipping line 258538: expected 28 fields, saw 30\n",
        "Skipping line 258764: expected 28 fields, saw 30\n",
        "Skipping line 259531: expected 28 fields, saw 30\n"
       ]
      },
      {
       "output_type": "stream",
       "stream": "stderr",
       "text": [
        "\n",
        "Skipping line 264925: expected 28 fields, saw 30\n",
        "Skipping line 265155: expected 28 fields, saw 30\n",
        "Skipping line 266831: expected 28 fields, saw 30\n",
        "Skipping line 266939: expected 28 fields, saw 30\n",
        "Skipping line 268304: expected 28 fields, saw 30\n",
        "Skipping line 268399: expected 28 fields, saw 30\n",
        "Skipping line 268698: expected 28 fields, saw 30\n",
        "Skipping line 268740: expected 28 fields, saw 30\n",
        "Skipping line 268987: expected 28 fields, saw 30\n",
        "Skipping line 269138: expected 28 fields, saw 30\n",
        "Skipping line 269476: expected 28 fields, saw 30\n",
        "Skipping line 269482: expected 28 fields, saw 30\n",
        "Skipping line 269667: expected 28 fields, saw 30\n",
        "Skipping line 270083: expected 28 fields, saw 30\n",
        "Skipping line 270132: expected 28 fields, saw 30\n",
        "Skipping line 270639: expected 28 fields, saw 30\n",
        "Skipping line 270814: expected 28 fields, saw 30\n",
        "Skipping line 270886: expected 28 fields, saw 30\n",
        "Skipping line 270966: expected 28 fields, saw 30\n",
        "Skipping line 271622: expected 28 fields, saw 30\n",
        "Skipping line 271943: expected 28 fields, saw 30\n",
        "Skipping line 273068: expected 28 fields, saw 30\n",
        "Skipping line 274817: expected 28 fields, saw 30\n",
        "Skipping line 275184: expected 28 fields, saw 30\n",
        "Skipping line 275730: expected 28 fields, saw 30\n",
        "Skipping line 276610: expected 28 fields, saw 30\n",
        "Skipping line 276822: expected 28 fields, saw 30\n",
        "Skipping line 277588: expected 28 fields, saw 30\n",
        "Skipping line 277676: expected 28 fields, saw 30\n",
        "Skipping line 278063: expected 28 fields, saw 30\n",
        "Skipping line 278176: expected 28 fields, saw 30\n",
        "Skipping line 278353: expected 28 fields, saw 30\n",
        "Skipping line 278840: expected 28 fields, saw 30\n",
        "Skipping line 279226: expected 28 fields, saw 30\n",
        "Skipping line 279329: expected 28 fields, saw 30\n",
        "Skipping line 279418: expected 28 fields, saw 30\n",
        "Skipping line 280516: expected 28 fields, saw 30\n",
        "Skipping line 280659: expected 28 fields, saw 30\n",
        "Skipping line 280749: expected 28 fields, saw 30\n",
        "Skipping line 280761: expected 28 fields, saw 32\n",
        "Skipping line 280888: expected 28 fields, saw 30\n",
        "Skipping line 281053: expected 28 fields, saw 30\n",
        "Skipping line 281959: expected 28 fields, saw 30\n",
        "Skipping line 282144: expected 28 fields, saw 30\n",
        "Skipping line 282424: expected 28 fields, saw 30\n",
        "Skipping line 284515: expected 28 fields, saw 34\n",
        "Skipping line 284528: expected 28 fields, saw 32\n",
        "Skipping line 284558: expected 28 fields, saw 36\n",
        "Skipping line 285198: expected 28 fields, saw 38\n",
        "Skipping line 286242: expected 28 fields, saw 30\n",
        "Skipping line 286330: expected 28 fields, saw 32\n",
        "Skipping line 286440: expected 28 fields, saw 30\n",
        "Skipping line 287539: expected 28 fields, saw 30\n",
        "Skipping line 288605: expected 28 fields, saw 32\n",
        "Skipping line 289069: expected 28 fields, saw 32\n",
        "Skipping line 289512: expected 28 fields, saw 30\n",
        "Skipping line 289944: expected 28 fields, saw 30\n",
        "Skipping line 290027: expected 28 fields, saw 30\n",
        "Skipping line 290250: expected 28 fields, saw 92\n",
        "Skipping line 290419: expected 28 fields, saw 36\n",
        "Skipping line 290442: expected 28 fields, saw 52\n",
        "Skipping line 290585: expected 28 fields, saw 38\n",
        "Skipping line 290752: expected 28 fields, saw 30\n",
        "Skipping line 290994: expected 28 fields, saw 30\n",
        "Skipping line 291091: expected 28 fields, saw 30\n",
        "Skipping line 293261: expected 28 fields, saw 30\n",
        "Skipping line 293832: expected 28 fields, saw 30\n",
        "Skipping line 294060: expected 28 fields, saw 30\n",
        "Skipping line 294561: expected 28 fields, saw 30\n"
       ]
      },
      {
       "output_type": "stream",
       "stream": "stderr",
       "text": [
        "\n",
        "Skipping line 299154: expected 28 fields, saw 30\n",
        "Skipping line 299340: expected 28 fields, saw 30\n",
        "Skipping line 299557: expected 28 fields, saw 30\n",
        "Skipping line 299802: expected 28 fields, saw 30\n",
        "Skipping line 300148: expected 28 fields, saw 30\n",
        "Skipping line 300200: expected 28 fields, saw 30\n",
        "Skipping line 300271: expected 28 fields, saw 32\n",
        "Skipping line 303272: expected 28 fields, saw 30\n",
        "Skipping line 303959: expected 28 fields, saw 30\n",
        "Skipping line 304125: expected 28 fields, saw 30\n",
        "Skipping line 304411: expected 28 fields, saw 34\n",
        "Skipping line 304689: expected 28 fields, saw 30\n",
        "Skipping line 306015: expected 28 fields, saw 30\n",
        "Skipping line 308042: expected 28 fields, saw 30\n",
        "Skipping line 308355: expected 28 fields, saw 30\n",
        "Skipping line 308477: expected 28 fields, saw 30\n",
        "Skipping line 308579: expected 28 fields, saw 30\n",
        "Skipping line 308799: expected 28 fields, saw 30\n",
        "Skipping line 309284: expected 28 fields, saw 30\n",
        "Skipping line 309343: expected 28 fields, saw 32\n",
        "Skipping line 309660: expected 28 fields, saw 30\n",
        "Skipping line 310812: expected 28 fields, saw 30\n",
        "Skipping line 311049: expected 28 fields, saw 30\n",
        "Skipping line 311050: expected 28 fields, saw 30\n",
        "Skipping line 311268: expected 28 fields, saw 32\n",
        "Skipping line 311311: expected 28 fields, saw 30\n",
        "Skipping line 311918: expected 28 fields, saw 30\n",
        "Skipping line 312295: expected 28 fields, saw 30\n",
        "Skipping line 312814: expected 28 fields, saw 34\n",
        "Skipping line 313092: expected 28 fields, saw 36\n",
        "Skipping line 317917: expected 28 fields, saw 38\n",
        "Skipping line 319544: expected 28 fields, saw 32\n",
        "Skipping line 319885: expected 28 fields, saw 30\n",
        "Skipping line 319924: expected 28 fields, saw 30\n",
        "Skipping line 320225: expected 28 fields, saw 30\n",
        "Skipping line 320932: expected 28 fields, saw 30\n",
        "Skipping line 321282: expected 28 fields, saw 30\n",
        "Skipping line 321316: expected 28 fields, saw 32\n",
        "Skipping line 321409: expected 28 fields, saw 30\n",
        "Skipping line 321901: expected 28 fields, saw 30\n",
        "Skipping line 321955: expected 28 fields, saw 30\n",
        "Skipping line 321965: expected 28 fields, saw 32\n",
        "Skipping line 322082: expected 28 fields, saw 30\n",
        "Skipping line 322126: expected 28 fields, saw 30\n",
        "Skipping line 322861: expected 28 fields, saw 30\n",
        "Skipping line 323220: expected 28 fields, saw 30\n",
        "Skipping line 323377: expected 28 fields, saw 32\n",
        "Skipping line 323791: expected 28 fields, saw 30\n",
        "Skipping line 324279: expected 28 fields, saw 30\n",
        "Skipping line 324860: expected 28 fields, saw 30\n",
        "Skipping line 325225: expected 28 fields, saw 30\n",
        "Skipping line 326217: expected 28 fields, saw 30\n",
        "Skipping line 326377: expected 28 fields, saw 30\n",
        "Skipping line 327293: expected 28 fields, saw 30\n",
        "Skipping line 327409: expected 28 fields, saw 30\n",
        "Skipping line 327636: expected 28 fields, saw 30\n",
        "Skipping line 328130: expected 28 fields, saw 30\n",
        "Skipping line 328182: expected 28 fields, saw 30\n"
       ]
      },
      {
       "output_type": "stream",
       "stream": "stderr",
       "text": [
        "\n",
        "Skipping line 328228: expected 28 fields, saw 30\n",
        "Skipping line 328542: expected 28 fields, saw 32\n",
        "Skipping line 329229: expected 28 fields, saw 34\n",
        "Skipping line 330100: expected 28 fields, saw 30\n",
        "Skipping line 330268: expected 28 fields, saw 32\n",
        "Skipping line 331062: expected 28 fields, saw 32\n",
        "Skipping line 331214: expected 28 fields, saw 30\n",
        "Skipping line 332574: expected 28 fields, saw 32\n",
        "Skipping line 332736: expected 28 fields, saw 32\n",
        "Skipping line 333032: expected 28 fields, saw 30\n",
        "Skipping line 333146: expected 28 fields, saw 32\n",
        "Skipping line 333563: expected 28 fields, saw 30\n",
        "Skipping line 333618: expected 28 fields, saw 32\n",
        "Skipping line 334364: expected 28 fields, saw 30\n",
        "Skipping line 335285: expected 28 fields, saw 30\n",
        "Skipping line 335591: expected 28 fields, saw 30\n",
        "Skipping line 335673: expected 28 fields, saw 32\n",
        "Skipping line 336032: expected 28 fields, saw 30\n",
        "Skipping line 336108: expected 28 fields, saw 30\n",
        "Skipping line 336366: expected 28 fields, saw 30\n",
        "Skipping line 336675: expected 28 fields, saw 32\n",
        "Skipping line 336799: expected 28 fields, saw 30\n",
        "Skipping line 337865: expected 28 fields, saw 30\n",
        "Skipping line 340068: expected 28 fields, saw 34\n",
        "Skipping line 340221: expected 28 fields, saw 30\n",
        "Skipping line 344038: expected 28 fields, saw 30\n",
        "Skipping line 344063: expected 28 fields, saw 30\n",
        "Skipping line 344118: expected 28 fields, saw 30\n",
        "Skipping line 344174: expected 28 fields, saw 30\n",
        "Skipping line 344896: expected 28 fields, saw 30\n",
        "Skipping line 344981: expected 28 fields, saw 30\n",
        "Skipping line 345986: expected 28 fields, saw 32\n",
        "Skipping line 346266: expected 28 fields, saw 30\n",
        "Skipping line 347724: expected 28 fields, saw 30\n",
        "Skipping line 347796: expected 28 fields, saw 38\n",
        "Skipping line 347977: expected 28 fields, saw 30\n",
        "Skipping line 348633: expected 28 fields, saw 32\n",
        "Skipping line 348651: expected 28 fields, saw 34\n",
        "Skipping line 348713: expected 28 fields, saw 30\n",
        "Skipping line 349112: expected 28 fields, saw 32\n",
        "Skipping line 349889: expected 28 fields, saw 32\n",
        "Skipping line 351191: expected 28 fields, saw 32\n",
        "Skipping line 357491: expected 28 fields, saw 30\n",
        "Skipping line 357729: expected 28 fields, saw 32\n",
        "Skipping line 357742: expected 28 fields, saw 36\n",
        "Skipping line 358285: expected 28 fields, saw 32\n",
        "Skipping line 358305: expected 28 fields, saw 36\n",
        "Skipping line 358330: expected 28 fields, saw 32\n",
        "Skipping line 358362: expected 28 fields, saw 78\n",
        "Skipping line 358504: expected 28 fields, saw 30\n",
        "Skipping line 358576: expected 28 fields, saw 38\n",
        "Skipping line 359278: expected 28 fields, saw 30\n",
        "Skipping line 359380: expected 28 fields, saw 36\n",
        "Skipping line 359398: expected 28 fields, saw 30\n",
        "Skipping line 359411: expected 28 fields, saw 34\n",
        "Skipping line 359546: expected 28 fields, saw 40\n",
        "Skipping line 359631: expected 28 fields, saw 34\n",
        "Skipping line 359722: expected 28 fields, saw 30\n",
        "Skipping line 359784: expected 28 fields, saw 30\n",
        "Skipping line 359809: expected 28 fields, saw 30\n",
        "Skipping line 359859: expected 28 fields, saw 32\n"
       ]
      },
      {
       "output_type": "stream",
       "stream": "stderr",
       "text": [
        "\n",
        "Skipping line 361864: expected 28 fields, saw 32\n",
        "Skipping line 362355: expected 28 fields, saw 30\n",
        "Skipping line 362801: expected 28 fields, saw 30\n",
        "Skipping line 365626: expected 28 fields, saw 30\n",
        "Skipping line 365915: expected 28 fields, saw 30\n",
        "Skipping line 370850: expected 28 fields, saw 30\n",
        "Skipping line 377841: expected 28 fields, saw 30\n",
        "Skipping line 382644: expected 28 fields, saw 30\n",
        "Skipping line 388671: expected 28 fields, saw 30\n",
        "Skipping line 388672: expected 28 fields, saw 30\n",
        "Skipping line 388720: expected 28 fields, saw 30\n",
        "Skipping line 389146: expected 28 fields, saw 36\n",
        "Skipping line 389304: expected 28 fields, saw 30\n",
        "Skipping line 389417: expected 28 fields, saw 30\n",
        "Skipping line 389522: expected 28 fields, saw 30\n",
        "Skipping line 391838: expected 28 fields, saw 40\n"
       ]
      },
      {
       "output_type": "stream",
       "stream": "stderr",
       "text": [
        "\n",
        "Skipping line 395185: expected 28 fields, saw 30\n",
        "Skipping line 395454: expected 28 fields, saw 32\n",
        "Skipping line 395502: expected 28 fields, saw 30\n",
        "Skipping line 395665: expected 28 fields, saw 30\n",
        "Skipping line 396130: expected 28 fields, saw 30\n",
        "Skipping line 396145: expected 28 fields, saw 30\n",
        "Skipping line 396479: expected 28 fields, saw 30\n",
        "Skipping line 396844: expected 28 fields, saw 30\n",
        "Skipping line 397149: expected 28 fields, saw 34\n",
        "Skipping line 397321: expected 28 fields, saw 30\n",
        "Skipping line 397681: expected 28 fields, saw 30\n",
        "Skipping line 400006: expected 28 fields, saw 30\n",
        "Skipping line 400439: expected 28 fields, saw 34\n",
        "Skipping line 400448: expected 28 fields, saw 32\n",
        "Skipping line 400523: expected 28 fields, saw 32\n",
        "Skipping line 400549: expected 28 fields, saw 30\n",
        "Skipping line 402281: expected 28 fields, saw 30\n",
        "Skipping line 403751: expected 28 fields, saw 30\n",
        "Skipping line 404834: expected 28 fields, saw 30\n"
       ]
      },
      {
       "output_type": "stream",
       "stream": "stderr",
       "text": [
        "\n",
        "Skipping line 436876: expected 28 fields, saw 30\n",
        "Skipping line 439059: expected 28 fields, saw 30\n",
        "Skipping line 440027: expected 28 fields, saw 30\n",
        "Skipping line 440083: expected 28 fields, saw 30\n",
        "Skipping line 443541: expected 28 fields, saw 30\n",
        "Skipping line 451654: expected 28 fields, saw 30\n",
        "Skipping line 451752: expected 28 fields, saw 30\n",
        "Skipping line 453269: expected 28 fields, saw 30\n",
        "Skipping line 454977: expected 28 fields, saw 30\n",
        "Skipping line 455367: expected 28 fields, saw 30\n",
        "Skipping line 455890: expected 28 fields, saw 30\n"
       ]
      },
      {
       "output_type": "stream",
       "stream": "stderr",
       "text": [
        "\n",
        "Skipping line 459526: expected 28 fields, saw 30\n",
        "Skipping line 459733: expected 28 fields, saw 30\n",
        "Skipping line 459840: expected 28 fields, saw 30\n",
        "Skipping line 459973: expected 28 fields, saw 32\n",
        "Skipping line 460046: expected 28 fields, saw 30\n",
        "Skipping line 460306: expected 28 fields, saw 30\n",
        "Skipping line 460406: expected 28 fields, saw 30\n",
        "Skipping line 460532: expected 28 fields, saw 32\n",
        "Skipping line 460741: expected 28 fields, saw 34\n",
        "Skipping line 460825: expected 28 fields, saw 34\n",
        "Skipping line 460842: expected 28 fields, saw 32\n",
        "Skipping line 460871: expected 28 fields, saw 30\n",
        "Skipping line 461090: expected 28 fields, saw 30\n",
        "Skipping line 461215: expected 28 fields, saw 32\n",
        "Skipping line 461266: expected 28 fields, saw 30\n",
        "Skipping line 461502: expected 28 fields, saw 30\n",
        "Skipping line 461518: expected 28 fields, saw 30\n",
        "Skipping line 461555: expected 28 fields, saw 30\n",
        "Skipping line 461707: expected 28 fields, saw 30\n",
        "Skipping line 461889: expected 28 fields, saw 30\n",
        "Skipping line 461963: expected 28 fields, saw 30\n",
        "Skipping line 462012: expected 28 fields, saw 30\n",
        "Skipping line 462054: expected 28 fields, saw 30\n",
        "Skipping line 462062: expected 28 fields, saw 30\n",
        "Skipping line 462067: expected 28 fields, saw 32\n",
        "Skipping line 462129: expected 28 fields, saw 30\n",
        "Skipping line 462207: expected 28 fields, saw 34\n",
        "Skipping line 462762: expected 28 fields, saw 30\n",
        "Skipping line 463573: expected 28 fields, saw 32\n",
        "Skipping line 463627: expected 28 fields, saw 34\n",
        "Skipping line 464252: expected 28 fields, saw 32\n",
        "Skipping line 464380: expected 28 fields, saw 30\n",
        "Skipping line 464708: expected 28 fields, saw 30\n",
        "Skipping line 465327: expected 28 fields, saw 30\n",
        "Skipping line 465386: expected 28 fields, saw 32\n",
        "Skipping line 466241: expected 28 fields, saw 32\n",
        "Skipping line 466988: expected 28 fields, saw 32\n",
        "Skipping line 467156: expected 28 fields, saw 30\n",
        "Skipping line 467382: expected 28 fields, saw 30\n",
        "Skipping line 469862: expected 28 fields, saw 34\n",
        "Skipping line 469864: expected 28 fields, saw 30\n",
        "Skipping line 469994: expected 28 fields, saw 30\n"
       ]
      },
      {
       "output_type": "stream",
       "stream": "stdout",
       "text": [
        "quantidade de registros:  473561\n"
       ]
      },
      {
       "output_type": "stream",
       "stream": "stderr",
       "text": [
        "\n"
       ]
      }
     ],
     "prompt_number": 6
    },
    {
     "cell_type": "code",
     "collapsed": false,
     "input": [
      "# Show all columns\n",
      "df.columns"
     ],
     "language": "python",
     "metadata": {},
     "outputs": [
      {
       "metadata": {},
       "output_type": "pyout",
       "prompt_number": 7,
       "text": [
        "Index([u'SKU', u'Variacao pai', u'SKU pai', u'Nome', u'Fabricante', u'Tipo Produto', u'Departamento Parser', u'Departamento Crawler', u'Categoria Parser', u'Categoria Crawler', u'GTIN', u'MPN', u'Bytes', u'Litros', u'Tamanho', u'Qtd. Embalagem', u'Cor', u'Peso', u'Genero', u'Volume', u'Voltagem', u'Disponibilidade', u'Preco', u'Preco oferta', u'URL', u'Imagem', u'Possible SKUs', u'Possible EAN'], dtype='object')"
       ]
      }
     ],
     "prompt_number": 7
    },
    {
     "cell_type": "code",
     "collapsed": false,
     "input": [
      "# Show the first 5 records\n",
      "# df.head(5)"
     ],
     "language": "python",
     "metadata": {},
     "outputs": [],
     "prompt_number": 8
    },
    {
     "cell_type": "markdown",
     "metadata": {},
     "source": [
      "### Produtos com Fabricante"
     ]
    },
    {
     "cell_type": "code",
     "collapsed": false,
     "input": [
      "qtde_sem_fabricante = len(df[df['Fabricante'].isin(['N/A'])])\n",
      "qtde_com_fabricante = len(df) - qtde_sem_fabricante\n",
      "\n",
      "print \"COM FABRICANTE: \", str(qtde_com_fabricante)\n",
      "print \"SEM FABRICANTE: \", str(qtde_sem_fabricante)\n",
      "\n",
      "#-------------------------------\n",
      "\n",
      "marcas_privalia = [\n",
      "'Nespresso',\n",
      "'Scalla',\n",
      "'Lenoxx',\n",
      "'Good Year Ferramentas',\n",
      "'Tramontina Ferramentas',\n",
      "'Ford & Western Ferramentas',\n",
      "'Mormaii Fitness',\n",
      "'Kikos Fitness',\n",
      "'Bioshape',\n",
      "'Mart',\n",
      "'Eterny',\n",
      "'Metaltru',\n",
      "'Prana',\n",
      "'Brinox',\n",
      "'H\u00e9rcules',\n",
      "'Sanremo',\n",
      "'Welf',\n",
      "'Lizz',\n",
      "'Stillo Casa',\n",
      "'Meridional',\n",
      "'OU',\n",
      "'Ordene',\n",
      "'Ricaelle',\n",
      "'4 Patas',\n",
      "'Oregon',\n",
      "'Nadir & Marinex',\n",
      "'Bohemia Gremax Cristais',\n",
      "'Class Home',\n",
      "'Euro Homeware',\n",
      "'Tramontina',\n",
      "'Mondial',\n",
      "'Echolife',\n",
      "'Pet Team',\n",
      "'Mundial',\n",
      "'Full Fit',\n",
      "'Arno',\n",
      "'Warner',\n",
      "'Bohemia & Ricaelle',\n",
      "'Disney & Ecolumi',\n",
      "'Electrolux',\n",
      "'Yoi',\n",
      "'Neoflam',\n",
      "'Day Home',\n",
      "'BTC',\n",
      "'Ceraflame',\n",
      "'Coza by Brinox',\n",
      "'Maxwell Williams & Cuisinart'\n",
      "]\n",
      "\n",
      "print '-' * 80\n",
      "for marca in marcas_privalia:\n",
      "    qtde_total_nome = len(df[df['Nome'].str.contains(marca)])\n",
      "    qtde_total_fabricante = len(df[df['Fabricante'].str.contains(marca)])\n",
      "    print '>>> MARCA: {}'.format(marca)\n",
      "    print 'NOME: {}'.format(qtde_total_nome)\n",
      "    print 'FABRICANTE: {}'.format(qtde_total_fabricante)\n",
      "    print '-' * 80\n",
      "\n",
      "#-------------------------------\n",
      "\n",
      "# df[df['Nome'].str.contains('Tramontina')].head(15)"
     ],
     "language": "python",
     "metadata": {},
     "outputs": [
      {
       "output_type": "stream",
       "stream": "stdout",
       "text": [
        "COM FABRICANTE:  207730\n",
        "SEM FABRICANTE:  265831\n",
        "--------------------------------------------------------------------------------\n",
        ">>> MARCA: Nespresso"
       ]
      },
      {
       "output_type": "stream",
       "stream": "stdout",
       "text": [
        "\n",
        "NOME: 73\n",
        "FABRICANTE: 62\n",
        "--------------------------------------------------------------------------------\n",
        ">>> MARCA: Scalla Cer\u00e2mica"
       ]
      },
      {
       "output_type": "stream",
       "stream": "stdout",
       "text": [
        "\n",
        "NOME: 0\n",
        "FABRICANTE: 0\n",
        "--------------------------------------------------------------------------------\n",
        ">>> MARCA: Lenoxx"
       ]
      },
      {
       "output_type": "stream",
       "stream": "stdout",
       "text": [
        "\n",
        "NOME: 34\n",
        "FABRICANTE: 28\n",
        "--------------------------------------------------------------------------------\n",
        ">>> MARCA: Good Year Ferramentas"
       ]
      },
      {
       "output_type": "stream",
       "stream": "stdout",
       "text": [
        "\n",
        "NOME: 0\n",
        "FABRICANTE: 0\n",
        "--------------------------------------------------------------------------------\n",
        ">>> MARCA: Tramontina Ferramentas"
       ]
      },
      {
       "output_type": "stream",
       "stream": "stdout",
       "text": [
        "\n",
        "NOME: 0\n",
        "FABRICANTE: 0\n",
        "--------------------------------------------------------------------------------\n",
        ">>> MARCA: Ford & Western Ferramentas"
       ]
      },
      {
       "output_type": "stream",
       "stream": "stdout",
       "text": [
        "\n",
        "NOME: 0\n",
        "FABRICANTE: 0\n",
        "--------------------------------------------------------------------------------\n",
        ">>> MARCA: Mormaii Fitness"
       ]
      },
      {
       "output_type": "stream",
       "stream": "stdout",
       "text": [
        "\n",
        "NOME: 0\n",
        "FABRICANTE: 0\n",
        "--------------------------------------------------------------------------------\n",
        ">>> MARCA: Kikos Fitness"
       ]
      },
      {
       "output_type": "stream",
       "stream": "stdout",
       "text": [
        "\n",
        "NOME: 0\n",
        "FABRICANTE: 0\n",
        "--------------------------------------------------------------------------------\n",
        ">>> MARCA: Bioshape"
       ]
      },
      {
       "output_type": "stream",
       "stream": "stdout",
       "text": [
        "\n",
        "NOME: 51\n",
        "FABRICANTE: 51\n",
        "--------------------------------------------------------------------------------\n",
        ">>> MARCA: Mart"
       ]
      },
      {
       "output_type": "stream",
       "stream": "stdout",
       "text": [
        "\n",
        "NOME: 939\n",
        "FABRICANTE: 669\n",
        "--------------------------------------------------------------------------------\n",
        ">>> MARCA: Eterny"
       ]
      },
      {
       "output_type": "stream",
       "stream": "stdout",
       "text": [
        "\n",
        "NOME: 49\n",
        "FABRICANTE: 49\n",
        "--------------------------------------------------------------------------------\n",
        ">>> MARCA: Metaltru"
       ]
      },
      {
       "output_type": "stream",
       "stream": "stdout",
       "text": [
        "\n",
        "NOME: 25\n",
        "FABRICANTE: 25\n",
        "--------------------------------------------------------------------------------\n",
        ">>> MARCA: Prana"
       ]
      },
      {
       "output_type": "stream",
       "stream": "stdout",
       "text": [
        "\n",
        "NOME: 2\n",
        "FABRICANTE: 2\n",
        "--------------------------------------------------------------------------------\n",
        ">>> MARCA: Brinox"
       ]
      },
      {
       "output_type": "stream",
       "stream": "stdout",
       "text": [
        "\n",
        "NOME: 358\n",
        "FABRICANTE: 359\n",
        "--------------------------------------------------------------------------------\n",
        ">>> MARCA: H\u00e9rcules"
       ]
      },
      {
       "output_type": "stream",
       "stream": "stdout",
       "text": [
        "\n",
        "NOME: 60\n",
        "FABRICANTE: 47\n",
        "--------------------------------------------------------------------------------\n",
        ">>> MARCA: Sanremo"
       ]
      },
      {
       "output_type": "stream",
       "stream": "stdout",
       "text": [
        "\n",
        "NOME: 21\n",
        "FABRICANTE: 21\n",
        "--------------------------------------------------------------------------------\n",
        ">>> MARCA: Welf"
       ]
      },
      {
       "output_type": "stream",
       "stream": "stdout",
       "text": [
        "\n",
        "NOME: 39\n",
        "FABRICANTE: 40\n",
        "--------------------------------------------------------------------------------\n",
        ">>> MARCA: Lizz"
       ]
      },
      {
       "output_type": "stream",
       "stream": "stdout",
       "text": [
        "\n",
        "NOME: 165\n",
        "FABRICANTE: 145\n",
        "--------------------------------------------------------------------------------\n",
        ">>> MARCA: Stillo Casa"
       ]
      },
      {
       "output_type": "stream",
       "stream": "stdout",
       "text": [
        "\n",
        "NOME: 0\n",
        "FABRICANTE: 0\n",
        "--------------------------------------------------------------------------------\n",
        ">>> MARCA: Meridional"
       ]
      },
      {
       "output_type": "stream",
       "stream": "stdout",
       "text": [
        "\n",
        "NOME: 58\n",
        "FABRICANTE: 57\n",
        "--------------------------------------------------------------------------------\n",
        ">>> MARCA: OU"
       ]
      },
      {
       "output_type": "stream",
       "stream": "stdout",
       "text": [
        "\n",
        "NOME: 1560\n",
        "FABRICANTE: 389\n",
        "--------------------------------------------------------------------------------\n",
        ">>> MARCA: Ordene"
       ]
      },
      {
       "output_type": "stream",
       "stream": "stdout",
       "text": [
        "\n",
        "NOME: 78\n",
        "FABRICANTE: 78\n",
        "--------------------------------------------------------------------------------\n",
        ">>> MARCA: Ricaelle"
       ]
      },
      {
       "output_type": "stream",
       "stream": "stdout",
       "text": [
        "\n",
        "NOME: 0\n",
        "FABRICANTE: 0\n",
        "--------------------------------------------------------------------------------\n",
        ">>> MARCA: 4 Patas"
       ]
      },
      {
       "output_type": "stream",
       "stream": "stdout",
       "text": [
        "\n",
        "NOME: 15\n",
        "FABRICANTE: 15\n",
        "--------------------------------------------------------------------------------\n",
        ">>> MARCA: Oregon"
       ]
      },
      {
       "output_type": "stream",
       "stream": "stdout",
       "text": [
        "\n",
        "NOME: 64\n",
        "FABRICANTE: 25\n",
        "--------------------------------------------------------------------------------\n",
        ">>> MARCA: Nadir & Marinex"
       ]
      },
      {
       "output_type": "stream",
       "stream": "stdout",
       "text": [
        "\n",
        "NOME: 0\n",
        "FABRICANTE: 0\n",
        "--------------------------------------------------------------------------------\n",
        ">>> MARCA: Bohemia Gremax Cristais"
       ]
      },
      {
       "output_type": "stream",
       "stream": "stdout",
       "text": [
        "\n",
        "NOME: 0\n",
        "FABRICANTE: 0\n",
        "--------------------------------------------------------------------------------\n",
        ">>> MARCA: Class Home"
       ]
      },
      {
       "output_type": "stream",
       "stream": "stdout",
       "text": [
        "\n",
        "NOME: 27\n",
        "FABRICANTE: 29\n",
        "--------------------------------------------------------------------------------\n",
        ">>> MARCA: Euro Homeware"
       ]
      },
      {
       "output_type": "stream",
       "stream": "stdout",
       "text": [
        "\n",
        "NOME: 0\n",
        "FABRICANTE: 0\n",
        "--------------------------------------------------------------------------------\n",
        ">>> MARCA: Tramontina"
       ]
      },
      {
       "output_type": "stream",
       "stream": "stdout",
       "text": [
        "\n",
        "NOME: 5267\n",
        "FABRICANTE: 5155\n",
        "--------------------------------------------------------------------------------\n",
        ">>> MARCA: Mondial"
       ]
      },
      {
       "output_type": "stream",
       "stream": "stdout",
       "text": [
        "\n",
        "NOME: 516\n",
        "FABRICANTE: 519\n",
        "--------------------------------------------------------------------------------\n",
        ">>> MARCA: Echolife"
       ]
      },
      {
       "output_type": "stream",
       "stream": "stdout",
       "text": [
        "\n",
        "NOME: 119\n",
        "FABRICANTE: 117\n",
        "--------------------------------------------------------------------------------\n",
        ">>> MARCA: Pet Team"
       ]
      },
      {
       "output_type": "stream",
       "stream": "stdout",
       "text": [
        "\n",
        "NOME: 0\n",
        "FABRICANTE: 0\n",
        "--------------------------------------------------------------------------------\n",
        ">>> MARCA: Mundial"
       ]
      },
      {
       "output_type": "stream",
       "stream": "stdout",
       "text": [
        "\n",
        "NOME: 248\n",
        "FABRICANTE: 241\n",
        "--------------------------------------------------------------------------------\n",
        ">>> MARCA: Full Fit"
       ]
      },
      {
       "output_type": "stream",
       "stream": "stdout",
       "text": [
        "\n",
        "NOME: 17\n",
        "FABRICANTE: 5\n",
        "--------------------------------------------------------------------------------\n",
        ">>> MARCA: Arno"
       ]
      },
      {
       "output_type": "stream",
       "stream": "stdout",
       "text": [
        "\n",
        "NOME: 259\n",
        "FABRICANTE: 251\n",
        "--------------------------------------------------------------------------------\n",
        ">>> MARCA: Warner"
       ]
      },
      {
       "output_type": "stream",
       "stream": "stdout",
       "text": [
        "\n",
        "NOME: 85\n",
        "FABRICANTE: 155\n",
        "--------------------------------------------------------------------------------\n",
        ">>> MARCA: Bohemia & Ricaelle"
       ]
      },
      {
       "output_type": "stream",
       "stream": "stdout",
       "text": [
        "\n",
        "NOME: 0\n",
        "FABRICANTE: 0\n",
        "--------------------------------------------------------------------------------\n",
        ">>> MARCA: Disney & Ecolumi"
       ]
      },
      {
       "output_type": "stream",
       "stream": "stdout",
       "text": [
        "\n",
        "NOME: 0\n",
        "FABRICANTE: 0\n",
        "--------------------------------------------------------------------------------\n",
        ">>> MARCA: Electrolux"
       ]
      },
      {
       "output_type": "stream",
       "stream": "stdout",
       "text": [
        "\n",
        "NOME: 555\n",
        "FABRICANTE: 554\n",
        "--------------------------------------------------------------------------------\n",
        ">>> MARCA: Yoi"
       ]
      },
      {
       "output_type": "stream",
       "stream": "stdout",
       "text": [
        "\n",
        "NOME: 0\n",
        "FABRICANTE: 0\n",
        "--------------------------------------------------------------------------------\n",
        ">>> MARCA: Neoflam"
       ]
      },
      {
       "output_type": "stream",
       "stream": "stdout",
       "text": [
        "\n",
        "NOME: 0\n",
        "FABRICANTE: 0\n",
        "--------------------------------------------------------------------------------\n",
        ">>> MARCA: Day Home"
       ]
      },
      {
       "output_type": "stream",
       "stream": "stdout",
       "text": [
        "\n",
        "NOME: 0\n",
        "FABRICANTE: 0\n",
        "--------------------------------------------------------------------------------\n",
        ">>> MARCA: BTC"
       ]
      },
      {
       "output_type": "stream",
       "stream": "stdout",
       "text": [
        "\n",
        "NOME: 303\n",
        "FABRICANTE: 303\n",
        "--------------------------------------------------------------------------------\n",
        ">>> MARCA: Ceraflame"
       ]
      },
      {
       "output_type": "stream",
       "stream": "stdout",
       "text": [
        "\n",
        "NOME: 16\n",
        "FABRICANTE: 16\n",
        "--------------------------------------------------------------------------------\n",
        ">>> MARCA: Coza by Brinox"
       ]
      },
      {
       "output_type": "stream",
       "stream": "stdout",
       "text": [
        "\n",
        "NOME: 0\n",
        "FABRICANTE: 0\n",
        "--------------------------------------------------------------------------------\n",
        ">>> MARCA: Maxwell Williams & Cuisinart"
       ]
      },
      {
       "output_type": "stream",
       "stream": "stdout",
       "text": [
        "\n",
        "NOME: 0\n",
        "FABRICANTE: 0\n",
        "--------------------------------------------------------------------------------\n"
       ]
      }
     ],
     "prompt_number": 9
    },
    {
     "cell_type": "code",
     "collapsed": false,
     "input": [],
     "language": "python",
     "metadata": {},
     "outputs": [],
     "prompt_number": 9
    }
   ],
   "metadata": {}
  }
 ]
}