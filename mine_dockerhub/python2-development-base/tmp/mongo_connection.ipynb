{
 "metadata": {
  "name": "",
  "signature": "sha256:6e60f31114b9d2d7f0c4df0541e82ca3961e571615dd6a4447073189b92770a5"
 },
 "nbformat": 3,
 "nbformat_minor": 0,
 "worksheets": [
  {
   "cells": [
    {
     "cell_type": "markdown",
     "metadata": {},
     "source": [
      "# Mongo data Exploration\n",
      "Explores a mongo collection."
     ]
    },
    {
     "cell_type": "markdown",
     "metadata": {},
     "source": [
      "## Setup the mongo connection:"
     ]
    },
    {
     "cell_type": "code",
     "collapsed": false,
     "input": [
      "import datetime\n",
      "\n",
      "from pymongo import MongoClient\n",
      "\n",
      "# CONFIGURATION\n",
      "MONGO_HOST = '172.17.42.1'  # DOCKER HOST\n",
      "MONGO_PORT = 27017\n",
      "MONGO_DATABASE = 'scrapy_crawls'\n",
      "MONGO_COLLECTION = 'info'\n",
      "\n",
      "\n",
      "# CONNECT TO THE DESIRED COLLECTION\n",
      "client = MongoClient(MONGO_HOST, MONGO_PORT)\n",
      "db = client[MONGO_DATABASE]\n",
      "collection = db[MONGO_COLLECTION]"
     ],
     "language": "python",
     "metadata": {},
     "outputs": [],
     "prompt_number": 1
    },
    {
     "cell_type": "markdown",
     "metadata": {},
     "source": [
      "## Print all records (date + spider_run_id):"
     ]
    },
    {
     "cell_type": "code",
     "collapsed": false,
     "input": [
      "# ALL CRAWLS\n",
      "all_crawls = collection.find()\n",
      "\n",
      "print 'Total records found: {}'.format(all_crawls.count())\n",
      "\n",
      "for crawl in all_crawls:\n",
      "    print crawl['date']"
     ],
     "language": "python",
     "metadata": {},
     "outputs": [
      {
       "output_type": "stream",
       "stream": "stdout",
       "text": [
        "Total records found: 13\n",
        "2015-07-20 11:06:31.806000\n",
        "2015-07-20 11:16:04.241000\n",
        "2015-07-20 12:10:20.575000\n",
        "2015-07-20 14:14:26.162000\n",
        "2015-07-20 15:37:27.142000\n",
        "2015-07-20 19:37:39.739000\n",
        "2015-07-20 19:59:37.980000\n",
        "2015-07-20 20:11:41.575000\n",
        "2015-07-20 20:17:37.387000\n",
        "2015-07-20 20:18:53.164000\n",
        "2015-07-20 20:20:05.741000\n",
        "2015-07-20 20:27:18.788000\n",
        "2015-07-20 20:35:01.770000\n"
       ]
      }
     ],
     "prompt_number": 4
    },
    {
     "cell_type": "markdown",
     "metadata": {},
     "source": [
      "## Compute now and x days before vars:"
     ]
    },
    {
     "cell_type": "code",
     "collapsed": false,
     "input": [
      "now = datetime.datetime.now()\n",
      "limit_date = now - datetime.timedelta(days=2)\n",
      "\n",
      "print \"NOW: {}\".format(now.strftime('%Y-%m-%d %H:%M:%S.%f'))\n",
      "print \"LIMIT_DATE: {}\".format(limit_date.strftime('%Y-%m-%d %H:%M:%S.%f'))"
     ],
     "language": "python",
     "metadata": {},
     "outputs": [
      {
       "output_type": "stream",
       "stream": "stdout",
       "text": [
        "NOW: 2015-07-17 17:18:40.101582\n",
        "LIMIT_DATE: 2015-07-15 17:18:40.101582\n"
       ]
      }
     ],
     "prompt_number": 39
    },
    {
     "cell_type": "markdown",
     "metadata": {},
     "source": [
      "## Print selected data (date > limit_date):"
     ]
    },
    {
     "cell_type": "code",
     "collapsed": false,
     "input": [
      "# SELECTED CRAWLS\n",
      "crawls = collection.find({\"date\": {\"$gt\": limit_date}})\n",
      "for crawl in crawls:\n",
      "    print 'DATE: {}, SPIDER_RUN_ID: {}'.format(crawl['date'], crawl['spider_run_id'])"
     ],
     "language": "python",
     "metadata": {},
     "outputs": [
      {
       "output_type": "stream",
       "stream": "stdout",
       "text": [
        "DATE: 2015-07-17 14:15:49.638000, SPIDER_RUN_ID: bridgestone-1437153073\n"
       ]
      }
     ],
     "prompt_number": 40
    },
    {
     "cell_type": "code",
     "collapsed": false,
     "input": [
      "crawls = collection.find_one({\"date\": {\"$gt\": limit_date}})"
     ],
     "language": "python",
     "metadata": {},
     "outputs": [],
     "prompt_number": 45
    },
    {
     "cell_type": "code",
     "collapsed": false,
     "input": [],
     "language": "python",
     "metadata": {},
     "outputs": []
    }
   ],
   "metadata": {}
  }
 ]
}