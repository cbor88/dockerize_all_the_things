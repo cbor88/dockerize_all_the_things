{
 "metadata": {
  "name": "",
  "signature": "sha256:bbb175a752690fd8ac6be2f7aa99ad697600d47dde7802d09d315b9a3d8e4101"
 },
 "nbformat": 3,
 "nbformat_minor": 0,
 "worksheets": [
  {
   "cells": [
    {
     "cell_type": "markdown",
     "metadata": {},
     "source": [
      "# Mongo data analysis\n",
      "Check how many products have (or not) variation"
     ]
    },
    {
     "cell_type": "markdown",
     "metadata": {},
     "source": [
      "## Setup the mongo connection:"
     ]
    },
    {
     "cell_type": "code",
     "collapsed": false,
     "input": [
      "import datetime\n",
      "\n",
      "from pymongo import MongoClient\n",
      "\n",
      "# CONFIGURATION\n",
      "MONGO_HOST = '172.17.42.1'  # DOCKER HOST\n",
      "MONGO_PORT = 27017\n",
      "MONGO_DATABASE = 'crawler_data_2015_08_injected'\n",
      "MONGO_COLLECTION = 'items'\n",
      "\n",
      "SPIDER_NAME = 'walmart'\n",
      "\n",
      "# CONNECT TO THE DESIRED COLLECTION\n",
      "client = MongoClient(MONGO_HOST, MONGO_PORT)\n",
      "db = client[MONGO_DATABASE]\n",
      "collection = db[MONGO_COLLECTION]"
     ],
     "language": "python",
     "metadata": {},
     "outputs": [],
     "prompt_number": 89
    },
    {
     "cell_type": "markdown",
     "metadata": {},
     "source": [
      "## Compute totals for the spider_name"
     ]
    },
    {
     "cell_type": "code",
     "collapsed": false,
     "input": [
      "totals = collection.find({\"_meta.spider_name\": SPIDER_NAME})\n",
      "total_records = totals.count()\n",
      "print \"TOTAL RECORDS: {}\".format(total_records)"
     ],
     "language": "python",
     "metadata": {},
     "outputs": [
      {
       "output_type": "stream",
       "stream": "stdout",
       "text": [
        "TOTAL RECORDS: 682102\n"
       ]
      }
     ],
     "prompt_number": 90
    },
    {
     "cell_type": "code",
     "collapsed": false,
     "input": [
      "with_variation = collection.find({\"_meta.spider_name\": SPIDER_NAME, \"variation_label\":{\"$ne\": \"\"}})\n",
      "total_with_variation = with_variation.count()\n",
      "print \"TOTAL RECORDS WITH VARIATION: {}\".format(total_with_variation)"
     ],
     "language": "python",
     "metadata": {},
     "outputs": [
      {
       "output_type": "stream",
       "stream": "stdout",
       "text": [
        "TOTAL RECORDS WITH VARIATION: 0\n"
       ]
      }
     ],
     "prompt_number": 91
    },
    {
     "cell_type": "code",
     "collapsed": false,
     "input": [],
     "language": "python",
     "metadata": {},
     "outputs": [],
     "prompt_number": 91
    }
   ],
   "metadata": {}
  }
 ]
}