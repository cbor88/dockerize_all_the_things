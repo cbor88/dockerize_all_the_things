{
 "metadata": {
  "name": "",
  "signature": "sha256:9f3aaeb2454fd7ff38db8a7df4c2f23502a67fee488f1c01b78b74fe98758ca3"
 },
 "nbformat": 3,
 "nbformat_minor": 0,
 "worksheets": [
  {
   "cells": [
    {
     "cell_type": "code",
     "collapsed": false,
     "input": [
      "import csv\n",
      "\n",
      "import numpy as np\n",
      "import pandas as pd\n",
      "\n",
      "FILE = 'files/csvs/americanas_scraped.csv'\n",
      "SEPARATOR = '\\t'\n",
      "\n",
      "df = pd.read_csv(FILE, SEPARATOR, error_bad_lines=False)\n",
      "# df = pd.read_csv(FILE, SEPARATOR, error_bad_lines=False, quoting=csv.QUOTE_NONE)\n",
      "\n",
      "\n",
      "blank_fields_values = {\n",
      " '_id.id': 0,\n",
      " 'ean': '',\n",
      " 'brand': '',\n",
      " 'name': '', \n",
      " 'product_type': '',\n",
      " 'price': 0,\n",
      " 'special_price': 0,\n",
      " 'department': '',\n",
      " 'category': '',\n",
      " 'url': '',\n",
      " 'available': True,\n",
      " 'instalments': 0,\n",
      " 'instalment_value': 0,\n",
      " 'image_url': '',\n",
      " 'variation_label' : '',\n",
      " 'tyre.width': 0,\n",
      " 'tyre.aspect_ratio': 0,\n",
      " 'tyre.rim_diameter': 0,\n",
      " 'tyre.load_index': 0,\n",
      " 'tyre.speed_rating': ''\n",
      "}\n",
      "df = df.fillna(value=blank_fields_values)\n",
      "\n",
      "# df = df.fillna(value='')"
     ],
     "language": "python",
     "metadata": {},
     "outputs": [],
     "prompt_number": 19
    },
    {
     "cell_type": "code",
     "collapsed": false,
     "input": [
      "df.count()\n"
     ],
     "language": "python",
     "metadata": {},
     "outputs": [
      {
       "metadata": {},
       "output_type": "pyout",
       "prompt_number": 20,
       "text": [
        "url                 545075\n",
        "sku                 545075\n",
        "name                545075\n",
        "variation_label     545075\n",
        "available           545075\n",
        "price               545075\n",
        "special_price       545075\n",
        "image_url           545075\n",
        "brand               545075\n",
        "ean                 545075\n",
        "categories          545019\n",
        "instalments         545075\n",
        "instalment_value    545075\n",
        "dtype: int64"
       ]
      }
     ],
     "prompt_number": 20
    },
    {
     "cell_type": "code",
     "collapsed": false,
     "input": [
      "df.columns\n"
     ],
     "language": "python",
     "metadata": {},
     "outputs": [
      {
       "metadata": {},
       "output_type": "pyout",
       "prompt_number": 21,
       "text": [
        "Index([u'url', u'sku', u'name', u'variation_label', u'available', u'price',\n",
        "       u'special_price', u'image_url', u'brand', u'ean', u'categories',\n",
        "       u'instalments', u'instalment_value'],\n",
        "      dtype='object')"
       ]
      }
     ],
     "prompt_number": 21
    },
    {
     "cell_type": "code",
     "collapsed": false,
     "input": [
      "df.tail(2)"
     ],
     "language": "python",
     "metadata": {},
     "outputs": [
      {
       "html": [
        "<div style=\"max-width:1500px;overflow:auto;\">\n",
        "<table border=\"1\" class=\"dataframe\">\n",
        "  <thead>\n",
        "    <tr style=\"text-align: right;\">\n",
        "      <th></th>\n",
        "      <th>url</th>\n",
        "      <th>sku</th>\n",
        "      <th>name</th>\n",
        "      <th>variation_label</th>\n",
        "      <th>available</th>\n",
        "      <th>price</th>\n",
        "      <th>special_price</th>\n",
        "      <th>image_url</th>\n",
        "      <th>brand</th>\n",
        "      <th>ean</th>\n",
        "      <th>categories</th>\n",
        "      <th>instalments</th>\n",
        "      <th>instalment_value</th>\n",
        "    </tr>\n",
        "  </thead>\n",
        "  <tbody>\n",
        "    <tr>\n",
        "      <th>545073</th>\n",
        "      <td>http://www.americanas.com.br/produto/9499197/p...</td>\n",
        "      <td>9499197</td>\n",
        "      <td>Pel\u00edcula Para Galaxy A3 / Duos De Ultra Resist...</td>\n",
        "      <td></td>\n",
        "      <td>True</td>\n",
        "      <td>19.99</td>\n",
        "      <td>19.99</td>\n",
        "      <td>http://img.americanas.com.br/produtos/01/00/sk...</td>\n",
        "      <td></td>\n",
        "      <td>7899792908969</td>\n",
        "      <td>Celulares e Telefones, Acess\u00f3rios para Celular...</td>\n",
        "      <td>1</td>\n",
        "      <td>19.99</td>\n",
        "    </tr>\n",
        "    <tr>\n",
        "      <th>545074</th>\n",
        "      <td>http://www.americanas.com.br/produto/121336871...</td>\n",
        "      <td>121336871</td>\n",
        "      <td>Skate Horripilante Monster High Monte Libano P...</td>\n",
        "      <td></td>\n",
        "      <td>True</td>\n",
        "      <td>89.91</td>\n",
        "      <td>89.91</td>\n",
        "      <td>http://iacom.s8.com.br/produtos/01/00/item/121...</td>\n",
        "      <td></td>\n",
        "      <td>4425865963684</td>\n",
        "      <td>Brinquedos, Esportes</td>\n",
        "      <td>2</td>\n",
        "      <td>44.96</td>\n",
        "    </tr>\n",
        "  </tbody>\n",
        "</table>\n",
        "</div>"
       ],
       "metadata": {},
       "output_type": "pyout",
       "prompt_number": 22,
       "text": [
        "                                                      url        sku  \\\n",
        "545073  http://www.americanas.com.br/produto/9499197/p...    9499197   \n",
        "545074  http://www.americanas.com.br/produto/121336871...  121336871   \n",
        "\n",
        "                                                     name variation_label  \\\n",
        "545073  Pel\u00edcula Para Galaxy A3 / Duos De Ultra Resist...                   \n",
        "545074  Skate Horripilante Monster High Monte Libano P...                   \n",
        "\n",
        "       available  price  special_price  \\\n",
        "545073      True  19.99          19.99   \n",
        "545074      True  89.91          89.91   \n",
        "\n",
        "                                                image_url brand  \\\n",
        "545073  http://img.americanas.com.br/produtos/01/00/sk...         \n",
        "545074  http://iacom.s8.com.br/produtos/01/00/item/121...         \n",
        "\n",
        "                  ean                                         categories  \\\n",
        "545073  7899792908969  Celulares e Telefones, Acess\u00f3rios para Celular...   \n",
        "545074  4425865963684                               Brinquedos, Esportes   \n",
        "\n",
        "        instalments  instalment_value  \n",
        "545073            1             19.99  \n",
        "545074            2             44.96  "
       ]
      }
     ],
     "prompt_number": 22
    },
    {
     "cell_type": "code",
     "collapsed": false,
     "input": [
      "# Generate a list of the urls.\n",
      "urls_csv_name = '{}.unique.URLs.csv'.format(FILE)\n",
      "urls_list = df['url'].unique()\n",
      "urls = '\\n'.join(urls_list)\n",
      "with open(urls_csv_name, 'w') as urls_file:\n",
      "    urls_file.write(urls)\n",
      "\n"
     ],
     "language": "python",
     "metadata": {},
     "outputs": [],
     "prompt_number": 23
    },
    {
     "cell_type": "code",
     "collapsed": false,
     "input": [],
     "language": "python",
     "metadata": {},
     "outputs": [],
     "prompt_number": 23
    }
   ],
   "metadata": {}
  }
 ]
}