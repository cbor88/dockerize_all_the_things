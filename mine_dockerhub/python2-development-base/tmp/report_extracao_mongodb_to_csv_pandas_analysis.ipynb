{
 "metadata": {
  "name": "",
  "signature": "sha256:55858a6f7f1e6fa11cade799750b9f47d4db3df0048ed692cb325e205be038c3"
 },
 "nbformat": 3,
 "nbformat_minor": 0,
 "worksheets": [
  {
   "cells": [
    {
     "cell_type": "code",
     "collapsed": false,
     "input": [
      "import numpy as np\n",
      "import pandas as pd\n",
      "\n",
      "CSV_NAMES = ['extra.csv', 'americanas.csv', 'walmart.csv']\n",
      "\n",
      "for name in CSV_NAMES:\n",
      "    df = pd.read_csv('files/extracao_produtos_sites_20150323/{}'.format(name))\n",
      "    df = df.fillna(value='N/A')\n",
      "    \n",
      "    print \"\\n\\n\", \"=\" * 30    \n",
      "    print \">>> {} :\".format(name)  \n",
      "    print \"-\" * 30    \n",
      "    print \"  TOTAL DE PRODUTOS: \", str(df.count())    \n",
      "    print \"-\" * 30    \n",
      "    qtde_sem_categoria = len(df[df['category'].isin(['N/A'])])\n",
      "    qtde_sem_departamento = len(df[df['department'].isin(['N/A'])])\n",
      "    qtde_sem_tipo_produto = len(df[df['product_type'].isin(['N/A'])])\n",
      "    qtde_sem_brand = len(df[df['brand'].isin(['N/A'])])\n",
      "    print \"  SEM CATEGORIA: \", str(qtde_sem_categoria)\n",
      "    print \"  SEM DEPARTAMENTO: \", str(qtde_sem_departamento)\n",
      "    print \"  SEM TIPO DE PRODUTO: \", str(qtde_sem_tipo_produto)\n",
      "    print \"  SEM BRAND: \", str(qtde_sem_brand)\n",
      "    \n",
      "    df.describe()\n",
      "    \n"
     ],
     "language": "python",
     "metadata": {},
     "outputs": [
      {
       "output_type": "stream",
       "stream": "stdout",
       "text": [
        "\n",
        "\n",
        "==============================\n",
        ">>> extra.csv :\n",
        "------------------------------\n",
        "  TOTAL DE PRODUTOS:  "
       ]
      },
      {
       "output_type": "stream",
       "stream": "stdout",
       "text": [
        "_id.id           327820\n",
        "brand            327820\n",
        "name             327820\n",
        "product_type     327820\n",
        "price            327820\n",
        "special_price    327820\n",
        "department       327820\n",
        "category         327820\n",
        "url              327820\n",
        "available        327820\n",
        "dtype: int64\n",
        "------------------------------\n",
        "  SEM CATEGORIA: "
       ]
      }
     ]
    },
    {
     "cell_type": "code",
     "collapsed": false,
     "input": [],
     "language": "python",
     "metadata": {},
     "outputs": []
    },
    {
     "cell_type": "code",
     "collapsed": false,
     "input": [],
     "language": "python",
     "metadata": {},
     "outputs": []
    },
    {
     "cell_type": "code",
     "collapsed": false,
     "input": [],
     "language": "python",
     "metadata": {},
     "outputs": []
    },
    {
     "cell_type": "code",
     "collapsed": false,
     "input": [],
     "language": "python",
     "metadata": {},
     "outputs": []
    }
   ],
   "metadata": {}
  }
 ]
}