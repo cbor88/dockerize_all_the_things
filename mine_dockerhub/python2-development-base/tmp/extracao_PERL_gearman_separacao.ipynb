{
 "metadata": {
  "name": "",
  "signature": "sha256:73f83dadd293d71200c96934443943298547c98751450f28cbf13321696b9704"
 },
 "nbformat": 3,
 "nbformat_minor": 0,
 "worksheets": [
  {
   "cells": [
    {
     "cell_type": "code",
     "collapsed": false,
     "input": [
      "import csv\n",
      "\n",
      "import numpy as np\n",
      "import pandas as pd\n",
      "\n",
      "FILE = 'files/csvs/LOTE3/files/urls.txt.METADADOS.csv'\n",
      "SEPARATOR = '\\t'\n",
      "\n",
      "fields_types = {\n",
      "    'URL Consultada': np.str, \n",
      "    'SKU': np.str,\n",
      "    'Variacao pai': np.str,\n",
      "    'SKU pai': np.str,\n",
      "    'Nome': np.str,\n",
      "    'Fabricante': np.str,\n",
      "    'Tipo Produto': np.str,\n",
      "    'Departamento Parser': np.str,\n",
      "    'Departamento Crawler': np.str,\n",
      "    'Categoria Parser': np.str,\n",
      "    'Categoria Crawler': np.str,\n",
      "    'GTIN': np.str,\n",
      "    'MPN': np.str,\n",
      "    'Bytes': np.str,\n",
      "    'Litros': np.str,\n",
      "    'Tamanho': np.str,\n",
      "    'Qtd. Embalagem': np.str,\n",
      "    'Cor': np.str,\n",
      "    'Peso': np.str,\n",
      "    'Genero': np.str,\n",
      "    'Volume': np.str,\n",
      "    'Voltagem': np.str,\n",
      "    'Disponibilidade': np.str,\n",
      "    'Preco': np.str,\n",
      "    'Preco oferta': np.str,\n",
      "    'URL': np.str,\n",
      "    'Imagem': np.str,\n",
      "    'Possible SKUs': np.str,\n",
      "    'Possible EAN': np.str\n",
      "}\n",
      "\n",
      "\n",
      "df = pd.read_csv(FILE, SEPARATOR, dtype=fields_types, error_bad_lines=False)\n",
      "# df = pd.read_csv(FILE, SEPARATOR, error_bad_lines=False, quoting=csv.QUOTE_NONE)\n",
      "\n",
      "blank_fields_values = {\n",
      "    'URL Consultada': '', \n",
      "    'SKU': '',\n",
      "    'Variacao pai': '',\n",
      "    'SKU pai': '',\n",
      "    'Nome': '',\n",
      "    'Fabricante': '',\n",
      "    'Tipo Produto': '',\n",
      "    'Departamento Parser': '',\n",
      "    'Departamento Crawler': '',\n",
      "    'Categoria Parser': '',\n",
      "    'Categoria Crawler': '',\n",
      "    'GTIN': '',\n",
      "    'MPN': '',\n",
      "    'Bytes': '',\n",
      "    'Litros': '',\n",
      "    'Tamanho': '',\n",
      "    'Qtd. Embalagem': '',\n",
      "    'Cor': '',\n",
      "    'Peso': '',\n",
      "    'Genero': '',\n",
      "    'Volume': '',\n",
      "    'Voltagem': '',\n",
      "    'Disponibilidade': '',\n",
      "    'Preco': '',\n",
      "    'Preco oferta': '',\n",
      "    'URL': '',\n",
      "    'Imagem': '',\n",
      "    'Possible SKUs': '',\n",
      "    'Possible EAN': ''\n",
      "}\n",
      "df = df.fillna(value=blank_fields_values)\n",
      "\n",
      "\n",
      "df = df.fillna(value='')"
     ],
     "language": "python",
     "metadata": {},
     "outputs": [],
     "prompt_number": 44
    },
    {
     "cell_type": "code",
     "collapsed": false,
     "input": [
      "df.count()\n"
     ],
     "language": "python",
     "metadata": {},
     "outputs": [
      {
       "metadata": {},
       "output_type": "pyout",
       "prompt_number": 45,
       "text": [
        "URL Consultada          16839\n",
        "SKU                     16839\n",
        "Variacao pai            16839\n",
        "SKU pai                 16839\n",
        "Nome                    16839\n",
        "Fabricante              16839\n",
        "Tipo Produto            16839\n",
        "Departamento Parser     16839\n",
        "Departamento Crawler    16839\n",
        "Categoria Parser        16839\n",
        "Categoria Crawler       16839\n",
        "GTIN                    16839\n",
        "MPN                     16839\n",
        "Bytes                   16839\n",
        "Litros                  16839\n",
        "Tamanho                 16839\n",
        "Qtd. Embalagem          16839\n",
        "Cor                     16839\n",
        "Peso                    16839\n",
        "Genero                  16839\n",
        "Volume                  16839\n",
        "Voltagem                16839\n",
        "Disponibilidade         16839\n",
        "Preco                   16839\n",
        "Preco oferta            16839\n",
        "URL                     16839\n",
        "Imagem                  16839\n",
        "Possible SKUs           16839\n",
        "Possible EAN            16839\n",
        "dtype: int64"
       ]
      }
     ],
     "prompt_number": 45
    },
    {
     "cell_type": "code",
     "collapsed": false,
     "input": [
      "df.columns\n"
     ],
     "language": "python",
     "metadata": {},
     "outputs": [
      {
       "metadata": {},
       "output_type": "pyout",
       "prompt_number": 46,
       "text": [
        "Index([u'URL Consultada', u'SKU', u'Variacao pai', u'SKU pai', u'Nome',\n",
        "       u'Fabricante', u'Tipo Produto', u'Departamento Parser',\n",
        "       u'Departamento Crawler', u'Categoria Parser', u'Categoria Crawler',\n",
        "       u'GTIN', u'MPN', u'Bytes', u'Litros', u'Tamanho', u'Qtd. Embalagem',\n",
        "       u'Cor', u'Peso', u'Genero', u'Volume', u'Voltagem', u'Disponibilidade',\n",
        "       u'Preco', u'Preco oferta', u'URL', u'Imagem', u'Possible SKUs',\n",
        "       u'Possible EAN'],\n",
        "      dtype='object')"
       ]
      }
     ],
     "prompt_number": 46
    },
    {
     "cell_type": "code",
     "collapsed": false,
     "input": [
      "df.head(2)"
     ],
     "language": "python",
     "metadata": {},
     "outputs": [
      {
       "html": [
        "<div style=\"max-width:1500px;overflow:auto;\">\n",
        "<table border=\"1\" class=\"dataframe\">\n",
        "  <thead>\n",
        "    <tr style=\"text-align: right;\">\n",
        "      <th></th>\n",
        "      <th>URL Consultada</th>\n",
        "      <th>SKU</th>\n",
        "      <th>Variacao pai</th>\n",
        "      <th>SKU pai</th>\n",
        "      <th>Nome</th>\n",
        "      <th>Fabricante</th>\n",
        "      <th>Tipo Produto</th>\n",
        "      <th>Departamento Parser</th>\n",
        "      <th>Departamento Crawler</th>\n",
        "      <th>Categoria Parser</th>\n",
        "      <th>...</th>\n",
        "      <th>Genero</th>\n",
        "      <th>Volume</th>\n",
        "      <th>Voltagem</th>\n",
        "      <th>Disponibilidade</th>\n",
        "      <th>Preco</th>\n",
        "      <th>Preco oferta</th>\n",
        "      <th>URL</th>\n",
        "      <th>Imagem</th>\n",
        "      <th>Possible SKUs</th>\n",
        "      <th>Possible EAN</th>\n",
        "    </tr>\n",
        "  </thead>\n",
        "  <tbody>\n",
        "    <tr>\n",
        "      <th>0</th>\n",
        "      <td>http://www.epocacosmeticos.com.br/sport-line-c...</td>\n",
        "      <td>2095</td>\n",
        "      <td>0</td>\n",
        "      <td></td>\n",
        "      <td>Sport Line Casual Eau de Toilette Shirley May ...</td>\n",
        "      <td>Shirley May</td>\n",
        "      <td></td>\n",
        "      <td>Perfumes</td>\n",
        "      <td>Perfumes</td>\n",
        "      <td>Perfume Masculino</td>\n",
        "      <td>...</td>\n",
        "      <td></td>\n",
        "      <td></td>\n",
        "      <td></td>\n",
        "      <td>1</td>\n",
        "      <td>0</td>\n",
        "      <td>0</td>\n",
        "      <td>http://www.epocacosmeticos.com.br/sport-line-c...</td>\n",
        "      <td>http://epocacosmeticos.vteximg.com.br/arquivos...</td>\n",
        "      <td>2095</td>\n",
        "      <td>6295124007729</td>\n",
        "    </tr>\n",
        "    <tr>\n",
        "      <th>1</th>\n",
        "      <td>http://www.epocacosmeticos.com.br/pure-c-ada-t...</td>\n",
        "      <td>1676</td>\n",
        "      <td>0</td>\n",
        "      <td></td>\n",
        "      <td>Pure C Ada Tina - Rejuvenescedor Facial - 30ml</td>\n",
        "      <td>Ada Tina</td>\n",
        "      <td></td>\n",
        "      <td>Dermocosm\u00e9ticos</td>\n",
        "      <td>Dermocosm\u00e9ticos</td>\n",
        "      <td>Rejuvenescedores</td>\n",
        "      <td>...</td>\n",
        "      <td></td>\n",
        "      <td></td>\n",
        "      <td></td>\n",
        "      <td>2</td>\n",
        "      <td>135.80</td>\n",
        "      <td>135.80</td>\n",
        "      <td>http://www.epocacosmeticos.com.br/pure-c-ada-t...</td>\n",
        "      <td>http://epocacosmeticos.vteximg.com.br/arquivos...</td>\n",
        "      <td>1676</td>\n",
        "      <td>7896768483451</td>\n",
        "    </tr>\n",
        "  </tbody>\n",
        "</table>\n",
        "<p>2 rows \u00d7 29 columns</p>\n",
        "</div>"
       ],
       "metadata": {},
       "output_type": "pyout",
       "prompt_number": 47,
       "text": [
        "                                      URL Consultada   SKU Variacao pai  \\\n",
        "0  http://www.epocacosmeticos.com.br/sport-line-c...  2095            0   \n",
        "1  http://www.epocacosmeticos.com.br/pure-c-ada-t...  1676            0   \n",
        "\n",
        "  SKU pai                                               Nome   Fabricante  \\\n",
        "0          Sport Line Casual Eau de Toilette Shirley May ...  Shirley May   \n",
        "1             Pure C Ada Tina - Rejuvenescedor Facial - 30ml     Ada Tina   \n",
        "\n",
        "  Tipo Produto Departamento Parser Departamento Crawler   Categoria Parser  \\\n",
        "0                         Perfumes             Perfumes  Perfume Masculino   \n",
        "1                  Dermocosm\u00e9ticos      Dermocosm\u00e9ticos   Rejuvenescedores   \n",
        "\n",
        "       ...       Genero Volume Voltagem Disponibilidade   Preco Preco oferta  \\\n",
        "0      ...                                            1       0            0   \n",
        "1      ...                                            2  135.80       135.80   \n",
        "\n",
        "                                                 URL  \\\n",
        "0  http://www.epocacosmeticos.com.br/sport-line-c...   \n",
        "1  http://www.epocacosmeticos.com.br/pure-c-ada-t...   \n",
        "\n",
        "                                              Imagem Possible SKUs  \\\n",
        "0  http://epocacosmeticos.vteximg.com.br/arquivos...          2095   \n",
        "1  http://epocacosmeticos.vteximg.com.br/arquivos...          1676   \n",
        "\n",
        "    Possible EAN  \n",
        "0  6295124007729  \n",
        "1  7896768483451  \n",
        "\n",
        "[2 rows x 29 columns]"
       ]
      }
     ],
     "prompt_number": 47
    },
    {
     "cell_type": "code",
     "collapsed": false,
     "input": [
      "blanks = df[(df['Possible EAN'] == '')]\n",
      "blanks.head(3)\n",
      "print 'TOTAL DE BLANKS: {}'.format(len(blanks))"
     ],
     "language": "python",
     "metadata": {},
     "outputs": [
      {
       "output_type": "stream",
       "stream": "stdout",
       "text": [
        "TOTAL DE BLANKS: 1267\n"
       ]
      }
     ],
     "prompt_number": 48
    },
    {
     "cell_type": "code",
     "collapsed": false,
     "input": [
      "not_blanks = df[(df['Possible EAN'] != '')]\n",
      "not_blanks.head(3)\n",
      "print 'TOTAL DE NOT BLANKS: {}'.format(len(not_blanks))\n",
      "assert len(blanks) + len(not_blanks) == len(df)"
     ],
     "language": "python",
     "metadata": {},
     "outputs": [
      {
       "output_type": "stream",
       "stream": "stdout",
       "text": [
        "TOTAL DE NOT BLANKS: 15572\n"
       ]
      }
     ],
     "prompt_number": 49
    },
    {
     "cell_type": "code",
     "collapsed": false,
     "input": [
      "not_blanks.to_csv(FILE + '.OK.csv', sep='\\t', orient='records', index=False)\n"
     ],
     "language": "python",
     "metadata": {},
     "outputs": [],
     "prompt_number": 50
    },
    {
     "cell_type": "code",
     "collapsed": false,
     "input": [
      "unique_urls = blanks['URL Consultada'].unique()\n",
      "df_todo = pd.DataFrame(unique_urls)\n",
      "df_todo.to_csv(FILE + '.TODO.csv', sep='\\t', orient='records', index=False)"
     ],
     "language": "python",
     "metadata": {},
     "outputs": [],
     "prompt_number": 51
    },
    {
     "cell_type": "code",
     "collapsed": false,
     "input": [],
     "language": "python",
     "metadata": {},
     "outputs": [],
     "prompt_number": 51
    }
   ],
   "metadata": {}
  }
 ]
}